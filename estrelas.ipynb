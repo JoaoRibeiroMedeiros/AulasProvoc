{
  "nbformat": 4,
  "nbformat_minor": 0,
  "metadata": {
    "kernelspec": {
      "language": "python",
      "display_name": "Python 3",
      "name": "python3"
    },
    "language_info": {
      "pygments_lexer": "ipython3",
      "nbconvert_exporter": "python",
      "version": "3.6.4",
      "file_extension": ".py",
      "codemirror_mode": {
        "name": "ipython",
        "version": 3
      },
      "name": "python",
      "mimetype": "text/x-python"
    },
    "colab": {
      "name": "estrelas.ipynb",
      "provenance": [],
      "collapsed_sections": []
    }
  },
  "cells": [
    {
      "cell_type": "markdown",
      "metadata": {
        "id": "SegHQbxAIcm1"
      },
      "source": [
        "# Estudando dataset do kaggle para estrelas"
      ]
    },
    {
      "cell_type": "code",
      "metadata": {
        "_uuid": "8f2839f25d086af736a60e9eeb907d3b93b6e0e5",
        "_cell_guid": "b1076dfc-b9ad-4769-8c92-a6c4dae69d19",
        "trusted": true,
        "id": "dlSsxx2ME_YD"
      },
      "source": [
        "\n",
        "import numpy as np \n",
        "import pandas as pd \n"
      ],
      "execution_count": 7,
      "outputs": []
    },
    {
      "cell_type": "code",
      "metadata": {
        "id": "zOZ6FKyTH_J_",
        "outputId": "8a635d06-6f77-4804-c95a-d2a8478da9e6",
        "colab": {
          "resources": {
            "http://localhost:8080/nbextensions/google.colab/files.js": {
              "data": "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",
              "ok": true,
              "headers": [
                [
                  "content-type",
                  "application/javascript"
                ]
              ],
              "status": 200,
              "status_text": ""
            }
          },
          "base_uri": "https://localhost:8080/",
          "height": 72
        }
      },
      "source": [
        "from google.colab import files\n",
        "uploaded = files.upload()"
      ],
      "execution_count": 3,
      "outputs": [
        {
          "output_type": "display_data",
          "data": {
            "text/html": [
              "\n",
              "     <input type=\"file\" id=\"files-1d6276e9-90a5-438f-9ba8-63564ead56e5\" name=\"files[]\" multiple disabled\n",
              "        style=\"border:none\" />\n",
              "     <output id=\"result-1d6276e9-90a5-438f-9ba8-63564ead56e5\">\n",
              "      Upload widget is only available when the cell has been executed in the\n",
              "      current browser session. Please rerun this cell to enable.\n",
              "      </output>\n",
              "      <script src=\"/nbextensions/google.colab/files.js\"></script> "
            ],
            "text/plain": [
              "<IPython.core.display.HTML object>"
            ]
          },
          "metadata": {
            "tags": []
          }
        },
        {
          "output_type": "stream",
          "text": [
            "Saving 6 class csv.csv to 6 class csv.csv\n"
          ],
          "name": "stdout"
        }
      ]
    },
    {
      "cell_type": "code",
      "metadata": {
        "_uuid": "d629ff2d2480ee46fbb7e2d37f6b5fab8052498a",
        "_cell_guid": "79c7e3d0-c299-4dcb-8224-4455121ee9b0",
        "trusted": true,
        "id": "mYAMGpvmE_YJ",
        "outputId": "20cb5db1-9ecd-4471-81bc-2c4b51762885",
        "colab": {
          "base_uri": "https://localhost:8080/",
          "height": 204
        }
      },
      "source": [
        "#df = pd.read_csv('../input/star-dataset/6 class csv.csv')\n",
        "df = pd.read_csv('6 class csv.csv')\n",
        "#print(\"First five data of the table\")\n",
        "df.head()"
      ],
      "execution_count": 4,
      "outputs": [
        {
          "output_type": "execute_result",
          "data": {
            "text/html": [
              "<div>\n",
              "<style scoped>\n",
              "    .dataframe tbody tr th:only-of-type {\n",
              "        vertical-align: middle;\n",
              "    }\n",
              "\n",
              "    .dataframe tbody tr th {\n",
              "        vertical-align: top;\n",
              "    }\n",
              "\n",
              "    .dataframe thead th {\n",
              "        text-align: right;\n",
              "    }\n",
              "</style>\n",
              "<table border=\"1\" class=\"dataframe\">\n",
              "  <thead>\n",
              "    <tr style=\"text-align: right;\">\n",
              "      <th></th>\n",
              "      <th>Temperature (K)</th>\n",
              "      <th>Luminosity(L/Lo)</th>\n",
              "      <th>Radius(R/Ro)</th>\n",
              "      <th>Absolute magnitude(Mv)</th>\n",
              "      <th>Star type</th>\n",
              "      <th>Star color</th>\n",
              "      <th>Spectral Class</th>\n",
              "    </tr>\n",
              "  </thead>\n",
              "  <tbody>\n",
              "    <tr>\n",
              "      <th>0</th>\n",
              "      <td>3068</td>\n",
              "      <td>0.002400</td>\n",
              "      <td>0.1700</td>\n",
              "      <td>16.12</td>\n",
              "      <td>0</td>\n",
              "      <td>Red</td>\n",
              "      <td>M</td>\n",
              "    </tr>\n",
              "    <tr>\n",
              "      <th>1</th>\n",
              "      <td>3042</td>\n",
              "      <td>0.000500</td>\n",
              "      <td>0.1542</td>\n",
              "      <td>16.60</td>\n",
              "      <td>0</td>\n",
              "      <td>Red</td>\n",
              "      <td>M</td>\n",
              "    </tr>\n",
              "    <tr>\n",
              "      <th>2</th>\n",
              "      <td>2600</td>\n",
              "      <td>0.000300</td>\n",
              "      <td>0.1020</td>\n",
              "      <td>18.70</td>\n",
              "      <td>0</td>\n",
              "      <td>Red</td>\n",
              "      <td>M</td>\n",
              "    </tr>\n",
              "    <tr>\n",
              "      <th>3</th>\n",
              "      <td>2800</td>\n",
              "      <td>0.000200</td>\n",
              "      <td>0.1600</td>\n",
              "      <td>16.65</td>\n",
              "      <td>0</td>\n",
              "      <td>Red</td>\n",
              "      <td>M</td>\n",
              "    </tr>\n",
              "    <tr>\n",
              "      <th>4</th>\n",
              "      <td>1939</td>\n",
              "      <td>0.000138</td>\n",
              "      <td>0.1030</td>\n",
              "      <td>20.06</td>\n",
              "      <td>0</td>\n",
              "      <td>Red</td>\n",
              "      <td>M</td>\n",
              "    </tr>\n",
              "  </tbody>\n",
              "</table>\n",
              "</div>"
            ],
            "text/plain": [
              "   Temperature (K)  Luminosity(L/Lo)  ...  Star color  Spectral Class\n",
              "0             3068          0.002400  ...         Red               M\n",
              "1             3042          0.000500  ...         Red               M\n",
              "2             2600          0.000300  ...         Red               M\n",
              "3             2800          0.000200  ...         Red               M\n",
              "4             1939          0.000138  ...         Red               M\n",
              "\n",
              "[5 rows x 7 columns]"
            ]
          },
          "metadata": {
            "tags": []
          },
          "execution_count": 4
        }
      ]
    },
    {
      "cell_type": "markdown",
      "metadata": {
        "id": "yJ1HW3mHIUKT"
      },
      "source": [
        "#Predicting star type with features"
      ]
    },
    {
      "cell_type": "code",
      "metadata": {
        "trusted": true,
        "id": "Ttt58MODE_Yb"
      },
      "source": [
        "features = ['Temperature (K)', 'Luminosity(L/Lo)', 'Radius(R/Ro)',\n",
        "       'Absolute magnitude(Mv)', 'Star color', 'Spectral Class'] \n",
        "X = df[features]\n",
        "y = df['Star type']"
      ],
      "execution_count": 12,
      "outputs": []
    },
    {
      "cell_type": "code",
      "metadata": {
        "trusted": true,
        "id": "Zhb3Gu6HE_Yf"
      },
      "source": [
        "Xpre = pd.get_dummies(X)"
      ],
      "execution_count": 9,
      "outputs": []
    },
    {
      "cell_type": "code",
      "metadata": {
        "trusted": true,
        "id": "IoN30MT8E_Yj"
      },
      "source": [
        "from sklearn.model_selection import train_test_split"
      ],
      "execution_count": 10,
      "outputs": []
    },
    {
      "cell_type": "code",
      "metadata": {
        "trusted": true,
        "id": "10dqjP4yE_Ym"
      },
      "source": [
        "X_train, X_test, y_train, y_test = train_test_split(Xpre, y, test_size=0.33, random_state=42)"
      ],
      "execution_count": 13,
      "outputs": []
    },
    {
      "cell_type": "code",
      "metadata": {
        "trusted": true,
        "id": "A_1Vr8DiE_Yp"
      },
      "source": [
        "from sklearn.tree import DecisionTreeRegressor"
      ],
      "execution_count": 14,
      "outputs": []
    },
    {
      "cell_type": "code",
      "metadata": {
        "trusted": true,
        "id": "9L8P8kTkE_Yt"
      },
      "source": [
        "starmodel = DecisionTreeRegressor(random_state=1)\n"
      ],
      "execution_count": 15,
      "outputs": []
    },
    {
      "cell_type": "code",
      "metadata": {
        "trusted": true,
        "id": "XfBNda6EE_Yw",
        "outputId": "0ef11258-1aa6-4494-e8f3-cbd1da71d1aa",
        "colab": {
          "base_uri": "https://localhost:8080/",
          "height": 119
        }
      },
      "source": [
        "starmodel.fit(X_train, y_train)"
      ],
      "execution_count": 16,
      "outputs": [
        {
          "output_type": "execute_result",
          "data": {
            "text/plain": [
              "DecisionTreeRegressor(ccp_alpha=0.0, criterion='mse', max_depth=None,\n",
              "                      max_features=None, max_leaf_nodes=None,\n",
              "                      min_impurity_decrease=0.0, min_impurity_split=None,\n",
              "                      min_samples_leaf=1, min_samples_split=2,\n",
              "                      min_weight_fraction_leaf=0.0, presort='deprecated',\n",
              "                      random_state=1, splitter='best')"
            ]
          },
          "metadata": {
            "tags": []
          },
          "execution_count": 16
        }
      ]
    },
    {
      "cell_type": "code",
      "metadata": {
        "trusted": true,
        "id": "BJ8JQ7dTE_Yz"
      },
      "source": [
        "previsoes = starmodel.predict(X_test)"
      ],
      "execution_count": 17,
      "outputs": []
    },
    {
      "cell_type": "code",
      "metadata": {
        "trusted": true,
        "id": "_LKixubJE_Y2"
      },
      "source": [
        "from sklearn.metrics import mean_absolute_error"
      ],
      "execution_count": 18,
      "outputs": []
    },
    {
      "cell_type": "code",
      "metadata": {
        "trusted": true,
        "id": "Xv3D_sB0E_Y5",
        "outputId": "96d95c5d-31c8-439f-9c98-0ee01fe9489b",
        "colab": {
          "base_uri": "https://localhost:8080/",
          "height": 34
        }
      },
      "source": [
        "mean_absolute_error( previsoes, y_test) "
      ],
      "execution_count": 19,
      "outputs": [
        {
          "output_type": "execute_result",
          "data": {
            "text/plain": [
              "0.0"
            ]
          },
          "metadata": {
            "tags": []
          },
          "execution_count": 19
        }
      ]
    },
    {
      "cell_type": "markdown",
      "metadata": {
        "id": "39_hP8jCI3a_"
      },
      "source": [
        "#Fazendo Alguns Gráficos"
      ]
    },
    {
      "cell_type": "code",
      "metadata": {
        "trusted": true,
        "id": "UhVUDkXVE_ZD"
      },
      "source": [
        "import matplotlib.pyplot as plt"
      ],
      "execution_count": 20,
      "outputs": []
    },
    {
      "cell_type": "code",
      "metadata": {
        "trusted": true,
        "id": "i9K-VP3pE_ZG",
        "outputId": "ad12dccd-d819-4f7d-cb16-b9a87fdf6a02",
        "colab": {
          "base_uri": "https://localhost:8080/",
          "height": 301
        }
      },
      "source": [
        "plt.scatter(df['Absolute magnitude(Mv)'],df['Luminosity(L/Lo)'])\n",
        "plt.grid(True)\n",
        "plt.xlabel('Absolute magnitude(Mv)', fontsize = 15)\n",
        "plt.ylabel('Luminosity(L/Lo)', fontsize = 15)\n",
        "#plt.title('lala', fontsize = 17)\n",
        "#plt.semilogx()\n",
        "plt.semilogy()"
      ],
      "execution_count": 21,
      "outputs": [
        {
          "output_type": "execute_result",
          "data": {
            "text/plain": [
              "[]"
            ]
          },
          "metadata": {
            "tags": []
          },
          "execution_count": 21
        },
        {
          "output_type": "display_data",
          "data": {
            "image/png": "[encoded data removed]",
            "text/plain": [
              "<Figure size 432x288 with 1 Axes>"
            ]
          },
          "metadata": {
            "tags": [],
            "needs_background": "light"
          }
        }
      ]
    },
    {
      "cell_type": "code",
      "metadata": {
        "trusted": true,
        "id": "cPYwZpPeE_ZJ",
        "outputId": "d055c530-214c-40be-93d7-775b950c7d10",
        "colab": {
          "base_uri": "https://localhost:8080/",
          "height": 301
        }
      },
      "source": [
        "plt.scatter(df['Temperature (K)'],df['Radius(R/Ro)'], color ='Pink')\n",
        "plt.grid(True)\n",
        "plt.xlabel('Temperature (K)', fontsize = 15)\n",
        "plt.ylabel('Radius(R/Ro)', fontsize = 15)\n",
        "plt.semilogy()\n",
        "#plt.title('lala', fontsize = 17)"
      ],
      "execution_count": 22,
      "outputs": [
        {
          "output_type": "execute_result",
          "data": {
            "text/plain": [
              "[]"
            ]
          },
          "metadata": {
            "tags": []
          },
          "execution_count": 22
        },
        {
          "output_type": "display_data",
          "data": {
            "image/png": "[encoded data removed]",
            "text/plain": [
              "<Figure size 432x288 with 1 Axes>"
            ]
          },
          "metadata": {
            "tags": [],
            "needs_background": "light"
          }
        }
      ]
    },
    {
      "cell_type": "code",
      "metadata": {
        "trusted": true,
        "id": "2MXOhTckE_ZM",
        "outputId": "35083588-ab79-4334-b4d2-f6824b933cfe",
        "colab": {
          "base_uri": "https://localhost:8080/",
          "height": 301
        }
      },
      "source": [
        "plt.scatter(df['Temperature (K)'],df['Radius(R/Ro)'], color ='Pink')\n",
        "plt.grid(True)\n",
        "plt.xlabel('Temperature (K)', fontsize = 15)\n",
        "plt.ylabel('Radius(R/Ro)', fontsize = 15)\n",
        "plt.semilogy()\n",
        "#plt.title('lala', fontsize = 17)"
      ],
      "execution_count": 23,
      "outputs": [
        {
          "output_type": "execute_result",
          "data": {
            "text/plain": [
              "[]"
            ]
          },
          "metadata": {
            "tags": []
          },
          "execution_count": 23
        },
        {
          "output_type": "display_data",
          "data": {
            "image/png": "[encoded data removed]",
            "text/plain": [
              "<Figure size 432x288 with 1 Axes>"
            ]
          },
          "metadata": {
            "tags": [],
            "needs_background": "light"
          }
        }
      ]
    },
    {
      "cell_type": "code",
      "metadata": {
        "trusted": true,
        "id": "N0x_tm9-E_ZP",
        "outputId": "70efc548-7a4e-4a5b-c207-ef46965f3365",
        "colab": {
          "base_uri": "https://localhost:8080/",
          "height": 301
        }
      },
      "source": [
        "plt.scatter(df['Absolute magnitude(Mv)'],df['Radius(R/Ro)'])\n",
        "plt.grid(True)\n",
        "plt.xlabel('Absolute magnitude(Mv)', fontsize = 15)\n",
        "plt.ylabel('Radius(R/Ro)', fontsize = 15)\n",
        "plt.semilogy()\n",
        "#plt.title('lala', fontsize = 17)"
      ],
      "execution_count": 24,
      "outputs": [
        {
          "output_type": "execute_result",
          "data": {
            "text/plain": [
              "[]"
            ]
          },
          "metadata": {
            "tags": []
          },
          "execution_count": 24
        },
        {
          "output_type": "display_data",
          "data": {
            "image/png": "[encoded data removed]",
            "text/plain": [
              "<Figure size 432x288 with 1 Axes>"
            ]
          },
          "metadata": {
            "tags": [],
            "needs_background": "light"
          }
        }
      ]
    },
    {
      "cell_type": "code",
      "metadata": {
        "trusted": true,
        "id": "jWfUy2eOE_ZT",
        "outputId": "35f8a5a9-ea89-4a7a-b461-38a94caf866f",
        "colab": {
          "base_uri": "https://localhost:8080/",
          "height": 305
        }
      },
      "source": [
        "plt.scatter(df['Radius(R/Ro)'], df['Luminosity(L/Lo)'], color = 'Violet')\n",
        "plt.grid(True)\n",
        "plt.ylabel('Luminosity(L/Lo)', fontsize = 15)\n",
        "plt.xlabel('Radius(R/Ro)', fontsize = 15)\n",
        "#plt.title('lala', fontsize = 17)\n",
        "plt.semilogx()\n",
        "plt.semilogy()"
      ],
      "execution_count": 25,
      "outputs": [
        {
          "output_type": "execute_result",
          "data": {
            "text/plain": [
              "[]"
            ]
          },
          "metadata": {
            "tags": []
          },
          "execution_count": 25
        },
        {
          "output_type": "display_data",
          "data": {
            "image/png": "[encoded data removed]",
            "text/plain": [
              "<Figure size 432x288 with 1 Axes>"
            ]
          },
          "metadata": {
            "tags": [],
            "needs_background": "light"
          }
        }
      ]
    },
    {
      "cell_type": "code",
      "metadata": {
        "trusted": true,
        "id": "rxjMkTRjE_ZX"
      },
      "source": [
        "plt.scatter(df['Absolute magnitude(Mv)'],df['Star type'])"
      ],
      "execution_count": null,
      "outputs": []
    },
    {
      "cell_type": "markdown",
      "metadata": {
        "id": "ZNxD6-I5E_Zc"
      },
      "source": [
        "Brown Dwarf -> Star Type = 0\n",
        "\n",
        "Red Dwarf -> Star Type = 1\n",
        "\n",
        "White Dwarf-> Star Type = 2\n",
        "\n",
        "Main Sequence -> Star Type = 3\n",
        "\n",
        "Supergiant -> Star Type = 4\n",
        "\n",
        "Hypergiant -> Star Type = 5"
      ]
    },
    {
      "cell_type": "markdown",
      "metadata": {
        "id": "8ItvKEeoE_Zd"
      },
      "source": [
        "# Lei de deslocamento de Wien"
      ]
    },
    {
      "cell_type": "markdown",
      "metadata": {
        "id": "AVs6mbqOE_Ze"
      },
      "source": [
        "$\\lambda_{max} = \\frac{b}{T}$"
      ]
    },
    {
      "cell_type": "markdown",
      "metadata": {
        "id": "qT_lKu71E_Zf"
      },
      "source": [
        "$b = 2.898 \\times 10^{-3}  (m \\times K )$"
      ]
    },
    {
      "cell_type": "code",
      "metadata": {
        "trusted": true,
        "id": "mrLmF9yTE_Zf"
      },
      "source": [
        "b = 2.898 * 10**(-3)"
      ],
      "execution_count": 27,
      "outputs": []
    },
    {
      "cell_type": "code",
      "metadata": {
        "trusted": true,
        "id": "WKF_ccFGE_Zj"
      },
      "source": [
        "T = df['Temperature (K)']\n",
        "\n",
        "lambd = b/T"
      ],
      "execution_count": 28,
      "outputs": []
    },
    {
      "cell_type": "code",
      "metadata": {
        "trusted": true,
        "id": "zjWDrAVWE_Zm"
      },
      "source": [
        "wow=np.linspace(1,40000,166)"
      ],
      "execution_count": null,
      "outputs": []
    },
    {
      "cell_type": "code",
      "metadata": {
        "trusted": true,
        "id": "ypMiK6DpE_Zp",
        "outputId": "47cc3636-cba8-42bd-bea3-4b52f92b477e",
        "colab": {
          "base_uri": "https://localhost:8080/",
          "height": 320
        }
      },
      "source": [
        "plt.scatter(T, lambd, c = 'Yellow')\n",
        "#plt.plot(wow, wow, c = 'red')\n",
        "plt.xlabel('Temperatura', fontsize= 14)\n",
        "plt.ylabel('$\\lambda_{max}$', fontsize= 14)\n",
        "plt.title(\"Wien's displacement Law\", fontsize= 17)"
      ],
      "execution_count": 29,
      "outputs": [
        {
          "output_type": "execute_result",
          "data": {
            "text/plain": [
              "Text(0.5, 1.0, \"Wien's displacement Law\")"
            ]
          },
          "metadata": {
            "tags": []
          },
          "execution_count": 29
        },
        {
          "output_type": "display_data",
          "data": {
            "image/png": "[encoded data removed]",
            "text/plain": [
              "<Figure size 432x288 with 1 Axes>"
            ]
          },
          "metadata": {
            "tags": [],
            "needs_background": "light"
          }
        }
      ]
    },
    {
      "cell_type": "markdown",
      "metadata": {
        "id": "obDqbZDpE_Zr"
      },
      "source": [
        "$v = \\lambda f$\n",
        "\n",
        "$c = \\lambda f  $"
      ]
    },
    {
      "cell_type": "code",
      "metadata": {
        "trusted": true,
        "id": "JO_anNVCE_Zs"
      },
      "source": [
        "c = 299792458 "
      ],
      "execution_count": 31,
      "outputs": []
    },
    {
      "cell_type": "code",
      "metadata": {
        "trusted": true,
        "id": "VuB8syleE_Zw"
      },
      "source": [
        "f = c / lambd"
      ],
      "execution_count": 32,
      "outputs": []
    },
    {
      "cell_type": "markdown",
      "metadata": {
        "id": "q_wsgLr0E_Zy"
      },
      "source": [
        ""
      ]
    },
    {
      "cell_type": "code",
      "metadata": {
        "trusted": true,
        "id": "_LcdMD83E_Zz",
        "outputId": "697579e9-f5d0-459a-bbd9-4e5f2fa6933c",
        "colab": {
          "base_uri": "https://localhost:8080/",
          "height": 330
        }
      },
      "source": [
        "plt.scatter(f, lambd, c = 'Pink')\n",
        "plt.xlabel('Frequency', fontsize = 17)\n",
        "plt.ylabel('$\\lambda$', fontsize = 17)\n",
        "plt.title('$\\\\lambda = \\\\frac{c}{f}$', fontsize= 17)"
      ],
      "execution_count": 33,
      "outputs": [
        {
          "output_type": "execute_result",
          "data": {
            "text/plain": [
              "Text(0.5, 1.0, '$\\\\lambda = \\\\frac{c}{f}$')"
            ]
          },
          "metadata": {
            "tags": []
          },
          "execution_count": 33
        },
        {
          "output_type": "display_data",
          "data": {
            "image/png": "[encoded data removed]",
            "text/plain": [
              "<Figure size 432x288 with 1 Axes>"
            ]
          },
          "metadata": {
            "tags": [],
            "needs_background": "light"
          }
        }
      ]
    },
    {
      "cell_type": "code",
      "metadata": {
        "id": "2XgL06deL1Ty"
      },
      "source": [
        ""
      ],
      "execution_count": null,
      "outputs": []
    },
    {
      "cell_type": "markdown",
      "metadata": {
        "id": "yO46PHZ5L1Ix"
      },
      "source": [
        "##data cleaning! unificando as etiquetas de cores"
      ]
    },
    {
      "cell_type": "code",
      "metadata": {
        "id": "ymNUfDU7L11R",
        "outputId": "f3bc287a-9aa6-4f68-b877-0e2a3da2391a",
        "colab": {
          "base_uri": "https://localhost:8080/",
          "height": 935
        }
      },
      "source": [
        "for i in range(len(df['Star color'])):\n",
        "    if df['Star color'][i] == 'Blue ':\n",
        "        df['Star color'][i] = 'Blue'\n",
        "    if df['Star color'][i] == 'Blue white ':\n",
        "        df['Star color'][i] = 'Blue-White'\n",
        "    if df['Star color'][i] == 'Blue white':\n",
        "        df['Star color'][i] = 'Blue-White'\n",
        "    if df['Star color'][i] == 'Blue-white ':\n",
        "        df['Star color'][i] = 'Blue-White'\n",
        "    if df['Star color'][i] == 'Blue-white':\n",
        "        df['Star color'][i] = 'Blue-White'\n",
        "    if df['Star color'][i] == 'Blue White':\n",
        "        df['Star color'][i] = 'Blue-White'\n",
        "    if df['Star color'][i] == 'yellow-white':\n",
        "        df['Star color'][i] = 'White-Yellow'\n",
        "    if df['Star color'][i] == 'yellowish':\n",
        "        df['Star color'][i] = 'Yellow'\n",
        "    if df['Star color'][i] == 'Yellowish':\n",
        "        df['Star color'][i] = 'Yellow'\n",
        "    if df['Star color'][i] == 'Whitish':\n",
        "        df['Star color'][i] = 'White'\n",
        "    if df['Star color'][i] == 'Yellowish White':\n",
        "        df['Star color'][i] = 'White-Yellow'\n",
        "    if df['Star color'][i] == 'white':\n",
        "        df['Star color'][i] = 'White'\n",
        "    if df['Star color'][i] == 'Pale yellow orange':\n",
        "        df['Star color'][i] = 'Yellow-Orange'\n",
        "    "
      ],
      "execution_count": 36,
      "outputs": [
        {
          "output_type": "stream",
          "text": [
            "/usr/local/lib/python3.6/dist-packages/ipykernel_launcher.py:13: SettingWithCopyWarning: \n",
            "A value is trying to be set on a copy of a slice from a DataFrame\n",
            "\n",
            "See the caveats in the documentation: https://pandas.pydata.org/pandas-docs/stable/user_guide/indexing.html#returning-a-view-versus-a-copy\n",
            "  del sys.path[0]\n",
            "/usr/local/lib/python3.6/dist-packages/ipykernel_launcher.py:23: SettingWithCopyWarning: \n",
            "A value is trying to be set on a copy of a slice from a DataFrame\n",
            "\n",
            "See the caveats in the documentation: https://pandas.pydata.org/pandas-docs/stable/user_guide/indexing.html#returning-a-view-versus-a-copy\n",
            "/usr/local/lib/python3.6/dist-packages/ipykernel_launcher.py:7: SettingWithCopyWarning: \n",
            "A value is trying to be set on a copy of a slice from a DataFrame\n",
            "\n",
            "See the caveats in the documentation: https://pandas.pydata.org/pandas-docs/stable/user_guide/indexing.html#returning-a-view-versus-a-copy\n",
            "  import sys\n",
            "/usr/local/lib/python3.6/dist-packages/ipykernel_launcher.py:27: SettingWithCopyWarning: \n",
            "A value is trying to be set on a copy of a slice from a DataFrame\n",
            "\n",
            "See the caveats in the documentation: https://pandas.pydata.org/pandas-docs/stable/user_guide/indexing.html#returning-a-view-versus-a-copy\n",
            "/usr/local/lib/python3.6/dist-packages/ipykernel_launcher.py:11: SettingWithCopyWarning: \n",
            "A value is trying to be set on a copy of a slice from a DataFrame\n",
            "\n",
            "See the caveats in the documentation: https://pandas.pydata.org/pandas-docs/stable/user_guide/indexing.html#returning-a-view-versus-a-copy\n",
            "  # This is added back by InteractiveShellApp.init_path()\n",
            "/usr/local/lib/python3.6/dist-packages/ipykernel_launcher.py:21: SettingWithCopyWarning: \n",
            "A value is trying to be set on a copy of a slice from a DataFrame\n",
            "\n",
            "See the caveats in the documentation: https://pandas.pydata.org/pandas-docs/stable/user_guide/indexing.html#returning-a-view-versus-a-copy\n",
            "/usr/local/lib/python3.6/dist-packages/ipykernel_launcher.py:15: SettingWithCopyWarning: \n",
            "A value is trying to be set on a copy of a slice from a DataFrame\n",
            "\n",
            "See the caveats in the documentation: https://pandas.pydata.org/pandas-docs/stable/user_guide/indexing.html#returning-a-view-versus-a-copy\n",
            "  from ipykernel import kernelapp as app\n",
            "/usr/local/lib/python3.6/dist-packages/ipykernel_launcher.py:25: SettingWithCopyWarning: \n",
            "A value is trying to be set on a copy of a slice from a DataFrame\n",
            "\n",
            "See the caveats in the documentation: https://pandas.pydata.org/pandas-docs/stable/user_guide/indexing.html#returning-a-view-versus-a-copy\n",
            "/usr/local/lib/python3.6/dist-packages/ipykernel_launcher.py:3: SettingWithCopyWarning: \n",
            "A value is trying to be set on a copy of a slice from a DataFrame\n",
            "\n",
            "See the caveats in the documentation: https://pandas.pydata.org/pandas-docs/stable/user_guide/indexing.html#returning-a-view-versus-a-copy\n",
            "  This is separate from the ipykernel package so we can avoid doing imports until\n",
            "/usr/local/lib/python3.6/dist-packages/ipykernel_launcher.py:17: SettingWithCopyWarning: \n",
            "A value is trying to be set on a copy of a slice from a DataFrame\n",
            "\n",
            "See the caveats in the documentation: https://pandas.pydata.org/pandas-docs/stable/user_guide/indexing.html#returning-a-view-versus-a-copy\n",
            "/usr/local/lib/python3.6/dist-packages/ipykernel_launcher.py:19: SettingWithCopyWarning: \n",
            "A value is trying to be set on a copy of a slice from a DataFrame\n",
            "\n",
            "See the caveats in the documentation: https://pandas.pydata.org/pandas-docs/stable/user_guide/indexing.html#returning-a-view-versus-a-copy\n",
            "/usr/local/lib/python3.6/dist-packages/ipykernel_launcher.py:5: SettingWithCopyWarning: \n",
            "A value is trying to be set on a copy of a slice from a DataFrame\n",
            "\n",
            "See the caveats in the documentation: https://pandas.pydata.org/pandas-docs/stable/user_guide/indexing.html#returning-a-view-versus-a-copy\n",
            "  \"\"\"\n"
          ],
          "name": "stderr"
        }
      ]
    },
    {
      "cell_type": "code",
      "metadata": {
        "trusted": true,
        "id": "9Kf2QYlEE_Z1"
      },
      "source": [
        "np.unique(df['Star color'])"
      ],
      "execution_count": null,
      "outputs": []
    },
    {
      "cell_type": "code",
      "metadata": {
        "trusted": true,
        "id": "qy85WTGWE_Z3"
      },
      "source": [
        "from_color_to_lambda = {}\n",
        "from_color_to_lambda['Blue'] = 460\n",
        "from_color_to_lambda['Blue-White'] = 500\n",
        "from_color_to_lambda['Orange'] = 620\n",
        "from_color_to_lambda['Orange-Red'] = 635\n",
        "from_color_to_lambda['Red'] = 700\n",
        "from_color_to_lambda['White'] = 700\n",
        "from_color_to_lambda['White-Yellow'] = 590\n",
        "from_color_to_lambda['Yellow'] = 562\n",
        "from_color_to_lambda['Yellow-Orange'] = 590"
      ],
      "execution_count": 37,
      "outputs": []
    },
    {
      "cell_type": "code",
      "metadata": {
        "trusted": true,
        "id": "JpkZ35ujE_Z6"
      },
      "source": [
        "from_color_to_lambda.values()"
      ],
      "execution_count": null,
      "outputs": []
    },
    {
      "cell_type": "code",
      "metadata": {
        "trusted": true,
        "id": "oozO4tlgE_Z9",
        "outputId": "d02840da-19be-43ab-cc50-37cca5e3313c",
        "colab": {
          "base_uri": "https://localhost:8080/",
          "height": 204
        }
      },
      "source": [
        "colortolambda = []\n",
        "for i in df['Star color']:\n",
        "    colortolambda.append(from_color_to_lambda[i])\n",
        "df[\"Visible Lambda\"] = colortolambda\n",
        "df.head()"
      ],
      "execution_count": 38,
      "outputs": [
        {
          "output_type": "execute_result",
          "data": {
            "text/html": [
              "<div>\n",
              "<style scoped>\n",
              "    .dataframe tbody tr th:only-of-type {\n",
              "        vertical-align: middle;\n",
              "    }\n",
              "\n",
              "    .dataframe tbody tr th {\n",
              "        vertical-align: top;\n",
              "    }\n",
              "\n",
              "    .dataframe thead th {\n",
              "        text-align: right;\n",
              "    }\n",
              "</style>\n",
              "<table border=\"1\" class=\"dataframe\">\n",
              "  <thead>\n",
              "    <tr style=\"text-align: right;\">\n",
              "      <th></th>\n",
              "      <th>Temperature (K)</th>\n",
              "      <th>Luminosity(L/Lo)</th>\n",
              "      <th>Radius(R/Ro)</th>\n",
              "      <th>Absolute magnitude(Mv)</th>\n",
              "      <th>Star type</th>\n",
              "      <th>Star color</th>\n",
              "      <th>Spectral Class</th>\n",
              "      <th>Visible Lambda</th>\n",
              "    </tr>\n",
              "  </thead>\n",
              "  <tbody>\n",
              "    <tr>\n",
              "      <th>0</th>\n",
              "      <td>3068</td>\n",
              "      <td>0.002400</td>\n",
              "      <td>0.1700</td>\n",
              "      <td>16.12</td>\n",
              "      <td>0</td>\n",
              "      <td>Red</td>\n",
              "      <td>M</td>\n",
              "      <td>700</td>\n",
              "    </tr>\n",
              "    <tr>\n",
              "      <th>1</th>\n",
              "      <td>3042</td>\n",
              "      <td>0.000500</td>\n",
              "      <td>0.1542</td>\n",
              "      <td>16.60</td>\n",
              "      <td>0</td>\n",
              "      <td>Red</td>\n",
              "      <td>M</td>\n",
              "      <td>700</td>\n",
              "    </tr>\n",
              "    <tr>\n",
              "      <th>2</th>\n",
              "      <td>2600</td>\n",
              "      <td>0.000300</td>\n",
              "      <td>0.1020</td>\n",
              "      <td>18.70</td>\n",
              "      <td>0</td>\n",
              "      <td>Red</td>\n",
              "      <td>M</td>\n",
              "      <td>700</td>\n",
              "    </tr>\n",
              "    <tr>\n",
              "      <th>3</th>\n",
              "      <td>2800</td>\n",
              "      <td>0.000200</td>\n",
              "      <td>0.1600</td>\n",
              "      <td>16.65</td>\n",
              "      <td>0</td>\n",
              "      <td>Red</td>\n",
              "      <td>M</td>\n",
              "      <td>700</td>\n",
              "    </tr>\n",
              "    <tr>\n",
              "      <th>4</th>\n",
              "      <td>1939</td>\n",
              "      <td>0.000138</td>\n",
              "      <td>0.1030</td>\n",
              "      <td>20.06</td>\n",
              "      <td>0</td>\n",
              "      <td>Red</td>\n",
              "      <td>M</td>\n",
              "      <td>700</td>\n",
              "    </tr>\n",
              "  </tbody>\n",
              "</table>\n",
              "</div>"
            ],
            "text/plain": [
              "   Temperature (K)  Luminosity(L/Lo)  ...  Spectral Class  Visible Lambda\n",
              "0             3068          0.002400  ...               M             700\n",
              "1             3042          0.000500  ...               M             700\n",
              "2             2600          0.000300  ...               M             700\n",
              "3             2800          0.000200  ...               M             700\n",
              "4             1939          0.000138  ...               M             700\n",
              "\n",
              "[5 rows x 8 columns]"
            ]
          },
          "metadata": {
            "tags": []
          },
          "execution_count": 38
        }
      ]
    },
    {
      "cell_type": "code",
      "metadata": {
        "trusted": true,
        "id": "i-Hty_fKE_aA"
      },
      "source": [
        "df['LambdaMax'] = lambd"
      ],
      "execution_count": 39,
      "outputs": []
    },
    {
      "cell_type": "code",
      "metadata": {
        "trusted": true,
        "id": "bgWMtmYTE_aD"
      },
      "source": [
        "df['LambdaMax'] = df['LambdaMax'] / 10**(-9)"
      ],
      "execution_count": 40,
      "outputs": []
    },
    {
      "cell_type": "code",
      "metadata": {
        "trusted": true,
        "id": "zxnybRfpE_aF"
      },
      "source": [
        "df.drop('LambdaMax (nm)', axis = 1, inplace = True)"
      ],
      "execution_count": null,
      "outputs": []
    },
    {
      "cell_type": "code",
      "metadata": {
        "trusted": true,
        "id": "AKmCXZ9PE_aI"
      },
      "source": [
        "y = range(0,1400)\n",
        "x = y"
      ],
      "execution_count": 42,
      "outputs": []
    },
    {
      "cell_type": "code",
      "metadata": {
        "trusted": true,
        "id": "ff0YeSMWE_aL",
        "outputId": "46f37c38-828e-4e48-9fac-9019877f1c1c",
        "colab": {
          "base_uri": "https://localhost:8080/",
          "height": 324
        }
      },
      "source": [
        "plt.scatter(df[\"Visible Lambda\"],df['LambdaMax'])\n",
        "plt.plot(x,y, color = 'Red')\n",
        "plt.xlabel('Lambda Visível (nm)', fontsize = 15)\n",
        "plt.ylabel('Lambda Máximo (nm)', fontsize = 15)\n",
        "plt.title('$\\lambda_{vis}$ x $\\lambda_{max}$', fontsize = 17)\n",
        "plt.legend(['Reta identidade','Dados do Dataframe'])"
      ],
      "execution_count": 43,
      "outputs": [
        {
          "output_type": "execute_result",
          "data": {
            "text/plain": [
              "<matplotlib.legend.Legend at 0x7f495ffc37b8>"
            ]
          },
          "metadata": {
            "tags": []
          },
          "execution_count": 43
        },
        {
          "output_type": "display_data",
          "data": {
            "image/png": "[encoded data removed]",
            "text/plain": [
              "<Figure size 432x288 with 1 Axes>"
            ]
          },
          "metadata": {
            "tags": [],
            "needs_background": "light"
          }
        }
      ]
    },
    {
      "cell_type": "code",
      "metadata": {
        "trusted": true,
        "id": "MpDkxgKkE_aO"
      },
      "source": [
        "df[\"LambdaMax\"] = lambd"
      ],
      "execution_count": null,
      "outputs": []
    },
    {
      "cell_type": "code",
      "metadata": {
        "trusted": true,
        "id": "3AN1FWXbE_aS"
      },
      "source": [
        "lambd"
      ],
      "execution_count": null,
      "outputs": []
    },
    {
      "cell_type": "markdown",
      "metadata": {
        "id": "8POqzVdYE_aV"
      },
      "source": [
        "Red\t    ~ 700–635 nm\t~ 430–480 THz\n",
        "\n",
        "Orange\t~ 635–590 nm\t~ 480–510 THz\n",
        "\n",
        "Yellow\t~ 590–560 nm\t~ 510–540 THz\n",
        "\n",
        "Green\t~ 560–520 nm\t~ 540–580 THz\n",
        "\n",
        "Cyan\t~ 520–490 nm\t~ 580–610 THz\n",
        "\n",
        "Blue\t~ 490–450 nm\t~ 610–670 THz\n",
        "\n",
        "Violet\t~ 450–400 nm\t~ 670–750 THz"
      ]
    },
    {
      "cell_type": "code",
      "metadata": {
        "trusted": true,
        "id": "sAF90k79E_aW"
      },
      "source": [
        "np.unique(df['Star color'])"
      ],
      "execution_count": null,
      "outputs": []
    },
    {
      "cell_type": "code",
      "metadata": {
        "trusted": true,
        "id": "MNs3ToNgE_aa"
      },
      "source": [
        ""
      ],
      "execution_count": null,
      "outputs": []
    },
    {
      "cell_type": "code",
      "metadata": {
        "trusted": true,
        "id": "Jgd4GkJ7E_ac"
      },
      "source": [
        "np.unique(df['Star color'])"
      ],
      "execution_count": null,
      "outputs": []
    },
    {
      "cell_type": "code",
      "metadata": {
        "trusted": true,
        "id": "lShp_e78E_af"
      },
      "source": [
        "[]"
      ],
      "execution_count": null,
      "outputs": []
    },
    {
      "cell_type": "markdown",
      "metadata": {
        "id": "jGd_ySjCE_ai"
      },
      "source": [
        "# Lei de Stefan Boltzmann\n",
        "\n",
        "$\\sigma ={\\frac  {2\\pi ^{5}k^{4}}{15c^{2}h^{3}}}=5.670373\\times 10^{{-8}}\\,{\\mathrm  {W\\,m^{{-2}}K^{{-4}}}}$\n",
        "\n",
        "$j^{*} = \\sigma T^4$\n",
        "\n",
        "$j^{*} = \\frac{L}{4\\pi R^{2}}$\n",
        "\n",
        "$\\frac{L}{4\\pi R^{2}}=\\sigma {T_{e}}^{4}$\n",
        "\n",
        "$L=4\\pi R^{2} \\sigma {T_{e}}^{4}$\n",
        "\n",
        "${\\displaystyle {\\frac {R}{R_{\\odot }}}\\approx \\left({\\frac {T_{\\odot }}{T}}\\right)^{-2}\\cdot {\\sqrt {\\frac {L}{L_{\\odot }}}}}$"
      ]
    },
    {
      "cell_type": "code",
      "metadata": {
        "trusted": true,
        "id": "YklbkxAIE_ai"
      },
      "source": [
        ""
      ],
      "execution_count": null,
      "outputs": []
    },
    {
      "cell_type": "code",
      "metadata": {
        "trusted": true,
        "id": "2oKqBCdYE_ao"
      },
      "source": [
        "Lo = 3.828 * 10**26 # Watts (Avg Luminosity of Sun)\n",
        "Ro = 6.9551 * 10**8 # m (Avg Radius of Sun)\n",
        "sigma = 5.670373*10**(-8) #Wm−2K−4"
      ],
      "execution_count": 44,
      "outputs": []
    },
    {
      "cell_type": "code",
      "metadata": {
        "trusted": true,
        "id": "tH4T6Lz3E_ar"
      },
      "source": [
        "df['Luminosity(W)'] =  df['Luminosity(L/Lo)'] * Lo"
      ],
      "execution_count": 45,
      "outputs": []
    },
    {
      "cell_type": "code",
      "metadata": {
        "trusted": true,
        "id": "2ezGqljTE_au"
      },
      "source": [
        "df['Radius(m)'] =  df['Radius(R/Ro)'] * Ro"
      ],
      "execution_count": 46,
      "outputs": []
    },
    {
      "cell_type": "code",
      "metadata": {
        "trusted": true,
        "id": "5z5nVzAKE_a1"
      },
      "source": [
        "df.head()"
      ],
      "execution_count": null,
      "outputs": []
    },
    {
      "cell_type": "markdown",
      "metadata": {
        "id": "fPVwtpPZE_a4"
      },
      "source": [
        "df.head"
      ]
    },
    {
      "cell_type": "code",
      "metadata": {
        "trusted": true,
        "id": "_XVSqLZPE_a4"
      },
      "source": [
        "from math import pi"
      ],
      "execution_count": 50,
      "outputs": []
    },
    {
      "cell_type": "code",
      "metadata": {
        "trusted": true,
        "id": "VZO-g5zdE_a9"
      },
      "source": [
        "L_teorico = 4*pi*(df['Radius(m)']**2)*sigma*(df['Temperature (K)']**4)"
      ],
      "execution_count": 51,
      "outputs": []
    },
    {
      "cell_type": "code",
      "metadata": {
        "trusted": true,
        "id": "j8f75tjnE_a_"
      },
      "source": [
        "import matplotlib.pyplot as plt"
      ],
      "execution_count": null,
      "outputs": []
    },
    {
      "cell_type": "code",
      "metadata": {
        "trusted": true,
        "id": "mrXXBLA4E_bD"
      },
      "source": [
        "y = []\n",
        "for i in range(23,34):\n",
        "    y.append(10**i)\n",
        "x = y    "
      ],
      "execution_count": 47,
      "outputs": []
    },
    {
      "cell_type": "code",
      "metadata": {
        "trusted": true,
        "id": "4qCYhMdLE_bG",
        "outputId": "d7a05aa5-7ebb-4f7a-9072-9836bae4f817",
        "colab": {
          "base_uri": "https://localhost:8080/",
          "height": 326
        }
      },
      "source": [
        "plt.scatter(L_teorico,df['Luminosity(W)'])\n",
        "plt.plot(x,y, color='Red')\n",
        "plt.grid(True)\n",
        "plt.xlabel('Luminosidade Teórica (W)', fontsize = 15)\n",
        "plt.ylabel('Luminosidade Experimental (W)', fontsize = 15)\n",
        "plt.title('Verificação da lei de Stefan-Boltzmann', fontsize = 17)\n",
        "plt.semilogx()\n",
        "plt.semilogy()"
      ],
      "execution_count": 52,
      "outputs": [
        {
          "output_type": "execute_result",
          "data": {
            "text/plain": [
              "[]"
            ]
          },
          "metadata": {
            "tags": []
          },
          "execution_count": 52
        },
        {
          "output_type": "display_data",
          "data": {
            "image/png": "[encoded data removed]",
            "text/plain": [
              "<Figure size 432x288 with 1 Axes>"
            ]
          },
          "metadata": {
            "tags": [],
            "needs_background": "light"
          }
        }
      ]
    },
    {
      "cell_type": "code",
      "metadata": {
        "trusted": true,
        "id": "1YUXjvJLE_bI"
      },
      "source": [
        "To = 5738 # K"
      ],
      "execution_count": 58,
      "outputs": []
    },
    {
      "cell_type": "code",
      "metadata": {
        "trusted": true,
        "id": "KdF7meLsE_bM"
      },
      "source": [
        "df['Temperature (T/To)'] =  df['Temperature (K)'] / To"
      ],
      "execution_count": 59,
      "outputs": []
    },
    {
      "cell_type": "markdown",
      "metadata": {
        "id": "NaRVldPKE_bP"
      },
      "source": [
        "${\\displaystyle {\\frac {R}{R_{\\odot }}}\\approx \\left({\\frac {T_{\\odot }}{T}}\\right)^{-2}\\cdot {\\sqrt {\\frac {L}{L_{\\odot }}}}}$"
      ]
    },
    {
      "cell_type": "code",
      "metadata": {
        "trusted": true,
        "id": "W4SLDnOZE_bP"
      },
      "source": [
        "RaioRelativoTeorico =  (df['Temperature (T/To)']**2)*(df['Luminosity(L/Lo)']**(1/2))"
      ],
      "execution_count": 60,
      "outputs": []
    },
    {
      "cell_type": "code",
      "metadata": {
        "trusted": true,
        "id": "i-DCHO7WE_bT",
        "outputId": "42d2d0be-a4c5-45cb-d06c-0b127a6d0ecd",
        "colab": {
          "base_uri": "https://localhost:8080/",
          "height": 325
        }
      },
      "source": [
        "plt.scatter(RaioRelativoTeorico,df['Radius(R/Ro)'])\n",
        "plt.grid(True)\n",
        "plt.plot(x,y, color='Red')\n",
        "plt.xlabel('Raio Relativo Teorico (R/Ro)', fontsize = 15)\n",
        "plt.ylabel('Raio Relativo Experimental (R/Ro)', fontsize = 15)\n",
        "plt.title('Verificação da lei de Stefan-Boltzmann', fontsize = 17)\n",
        "plt.semilogx()\n",
        "plt.semilogy()"
      ],
      "execution_count": 63,
      "outputs": [
        {
          "output_type": "execute_result",
          "data": {
            "text/plain": [
              "[]"
            ]
          },
          "metadata": {
            "tags": []
          },
          "execution_count": 63
        },
        {
          "output_type": "display_data",
          "data": {
            "image/png": "[encoded data removed]",
            "text/plain": [
              "<Figure size 432x288 with 1 Axes>"
            ]
          },
          "metadata": {
            "tags": [],
            "needs_background": "light"
          }
        }
      ]
    },
    {
      "cell_type": "code",
      "metadata": {
        "trusted": true,
        "id": "utoZxGZoE_bV"
      },
      "source": [
        "y = []\n",
        "for i in range(-2,4):\n",
        "    y.append(10**i)\n",
        "x = y    "
      ],
      "execution_count": 62,
      "outputs": []
    },
    {
      "cell_type": "markdown",
      "metadata": {
        "id": "Wlby2nM0Oq2f"
      },
      "source": [
        "#Gráficos para valores médios das grandezas associadas a cada tipo de estrela"
      ]
    },
    {
      "cell_type": "code",
      "metadata": {
        "id": "R5BrdYZoOrTU"
      },
      "source": [
        "numero_tipo= {}\n",
        "numero_tipo[0] = 'Brown Dwarf'\n",
        "numero_tipo[1] = 'Red Dwarf'\n",
        "numero_tipo[2] = 'White Dwarf'\n",
        "numero_tipo[3] = 'Main Sequence'\n",
        "numero_tipo[4] = 'Supergiant'\n",
        "numero_tipo[5] = 'Hypergiant'"
      ],
      "execution_count": 69,
      "outputs": []
    },
    {
      "cell_type": "code",
      "metadata": {
        "trusted": true,
        "id": "re-3Op3BE_bg"
      },
      "source": [
        "df.columns"
      ],
      "execution_count": null,
      "outputs": []
    },
    {
      "cell_type": "code",
      "metadata": {
        "trusted": true,
        "id": "H5rOI6rsE_bj"
      },
      "source": [
        "colunasnumericas = ['Temperature (K)', 'Luminosity(L/Lo)', 'Radius(R/Ro)',\n",
        "       'Absolute magnitude(Mv)' ]"
      ],
      "execution_count": 70,
      "outputs": []
    },
    {
      "cell_type": "code",
      "metadata": {
        "trusted": true,
        "id": "bD5tB8E3E_bl",
        "outputId": "ea749294-d15c-4b7c-b648-a1f5b339e1b1",
        "colab": {
          "base_uri": "https://localhost:8080/",
          "height": 1000
        }
      },
      "source": [
        "for j in np.unique(df['Star type']):\n",
        "    for i in colunasnumericas:\n",
        "        print('O valor medio de', i, 'para o tipo de estrela', numero_tipo[j], ' é') \n",
        "        print('\\n')\n",
        "        print(np.mean(df[df['Star type']==j][i]))\n",
        "        print('\\n')\n",
        "        \n",
        "        \n",
        "    "
      ],
      "execution_count": 71,
      "outputs": [
        {
          "output_type": "stream",
          "text": [
            "O valor medio de Temperature (K) para o tipo de estrela Brown Dwarf  é\n",
            "\n",
            "\n",
            "2997.95\n",
            "\n",
            "\n",
            "O valor medio de Luminosity(L/Lo) para o tipo de estrela Brown Dwarf  é\n",
            "\n",
            "\n",
            "0.0006932749999999999\n",
            "\n",
            "\n",
            "O valor medio de Radius(R/Ro) para o tipo de estrela Brown Dwarf  é\n",
            "\n",
            "\n",
            "0.11001500000000002\n",
            "\n",
            "\n",
            "O valor medio de Absolute magnitude(Mv) para o tipo de estrela Brown Dwarf  é\n",
            "\n",
            "\n",
            "17.563499999999998\n",
            "\n",
            "\n",
            "O valor medio de Temperature (K) para o tipo de estrela Red Dwarf  é\n",
            "\n",
            "\n",
            "3283.825\n",
            "\n",
            "\n",
            "O valor medio de Luminosity(L/Lo) para o tipo de estrela Red Dwarf  é\n",
            "\n",
            "\n",
            "0.00540575\n",
            "\n",
            "\n",
            "O valor medio de Radius(R/Ro) para o tipo de estrela Red Dwarf  é\n",
            "\n",
            "\n",
            "0.34814500000000004\n",
            "\n",
            "\n",
            "O valor medio de Absolute magnitude(Mv) para o tipo de estrela Red Dwarf  é\n",
            "\n",
            "\n",
            "12.539975\n",
            "\n",
            "\n",
            "O valor medio de Temperature (K) para o tipo de estrela White Dwarf  é\n",
            "\n",
            "\n",
            "13931.45\n",
            "\n",
            "\n",
            "O valor medio de Luminosity(L/Lo) para o tipo de estrela White Dwarf  é\n",
            "\n",
            "\n",
            "0.002433625\n",
            "\n",
            "\n",
            "O valor medio de Radius(R/Ro) para o tipo de estrela White Dwarf  é\n",
            "\n",
            "\n",
            "0.010728250000000002\n",
            "\n",
            "\n",
            "O valor medio de Absolute magnitude(Mv) para o tipo de estrela White Dwarf  é\n",
            "\n",
            "\n",
            "12.5825\n",
            "\n",
            "\n",
            "O valor medio de Temperature (K) para o tipo de estrela Main Sequence  é\n",
            "\n",
            "\n",
            "16018.0\n",
            "\n",
            "\n",
            "O valor medio de Luminosity(L/Lo) para o tipo de estrela Main Sequence  é\n",
            "\n",
            "\n",
            "32067.386274999997\n",
            "\n",
            "\n",
            "O valor medio de Radius(R/Ro) para o tipo de estrela Main Sequence  é\n",
            "\n",
            "\n",
            "4.430299999999999\n",
            "\n",
            "\n",
            "O valor medio de Absolute magnitude(Mv) para o tipo de estrela Main Sequence  é\n",
            "\n",
            "\n",
            "-0.3674249999999999\n",
            "\n",
            "\n",
            "O valor medio de Temperature (K) para o tipo de estrela Supergiant  é\n",
            "\n",
            "\n",
            "15347.85\n",
            "\n",
            "\n",
            "O valor medio de Luminosity(L/Lo) para o tipo de estrela Supergiant  é\n",
            "\n",
            "\n",
            "301816.25\n",
            "\n",
            "\n",
            "O valor medio de Radius(R/Ro) para o tipo de estrela Supergiant  é\n",
            "\n",
            "\n",
            "51.15\n",
            "\n",
            "\n",
            "O valor medio de Absolute magnitude(Mv) para o tipo de estrela Supergiant  é\n",
            "\n",
            "\n",
            "-6.369925\n",
            "\n",
            "\n",
            "O valor medio de Temperature (K) para o tipo de estrela Hypergiant  é\n",
            "\n",
            "\n",
            "11405.7\n",
            "\n",
            "\n",
            "O valor medio de Luminosity(L/Lo) para o tipo de estrela Hypergiant  é\n",
            "\n",
            "\n",
            "309246.525\n",
            "\n",
            "\n",
            "O valor medio de Radius(R/Ro) para o tipo de estrela Hypergiant  é\n",
            "\n",
            "\n",
            "1366.8975\n",
            "\n",
            "\n",
            "O valor medio de Absolute magnitude(Mv) para o tipo de estrela Hypergiant  é\n",
            "\n",
            "\n",
            "-9.65425\n",
            "\n",
            "\n"
          ],
          "name": "stdout"
        }
      ]
    },
    {
      "cell_type": "code",
      "metadata": {
        "trusted": true,
        "id": "DuXO8w5kE_bn",
        "outputId": "2bb6b9e9-faa9-4c8c-ef73-fc68eb4a3d03",
        "colab": {
          "base_uri": "https://localhost:8080/",
          "height": 1000
        }
      },
      "source": [
        "for j in np.unique(df['Star type']):\n",
        "    for i in colunasnumericas:\n",
        "        print('O desvio padrão de', i, 'para o tipo de estrela', numero_tipo[j], ' é') \n",
        "        print('\\n')\n",
        "        print(np.std(df[df['Star type']==j][i]))\n",
        "        print('\\n')"
      ],
      "execution_count": 72,
      "outputs": [
        {
          "output_type": "stream",
          "text": [
            "O desvio padrão de Temperature (K) para o tipo de estrela Brown Dwarf  é\n",
            "\n",
            "\n",
            "328.0965521001402\n",
            "\n",
            "\n",
            "O desvio padrão de Luminosity(L/Lo) para o tipo de estrela Brown Dwarf  é\n",
            "\n",
            "\n",
            "0.0008767366761890368\n",
            "\n",
            "\n",
            "O desvio padrão de Radius(R/Ro) para o tipo de estrela Brown Dwarf  é\n",
            "\n",
            "\n",
            "0.025458265357246948\n",
            "\n",
            "\n",
            "O desvio padrão de Absolute magnitude(Mv) para o tipo de estrela Brown Dwarf  é\n",
            "\n",
            "\n",
            "1.1978513054632445\n",
            "\n",
            "\n",
            "O desvio padrão de Temperature (K) para o tipo de estrela Red Dwarf  é\n",
            "\n",
            "\n",
            "266.2454588814615\n",
            "\n",
            "\n",
            "O desvio padrão de Luminosity(L/Lo) para o tipo de estrela Red Dwarf  é\n",
            "\n",
            "\n",
            "0.007238032152284209\n",
            "\n",
            "\n",
            "O desvio padrão de Radius(R/Ro) para o tipo de estrela Red Dwarf  é\n",
            "\n",
            "\n",
            "0.1525097914069782\n",
            "\n",
            "\n",
            "O desvio padrão de Absolute magnitude(Mv) para o tipo de estrela Red Dwarf  é\n",
            "\n",
            "\n",
            "1.4049180133997141\n",
            "\n",
            "\n",
            "O desvio padrão de Temperature (K) para o tipo de estrela White Dwarf  é\n",
            "\n",
            "\n",
            "4895.292263746875\n",
            "\n",
            "\n",
            "O desvio padrão de Luminosity(L/Lo) para o tipo de estrela White Dwarf  é\n",
            "\n",
            "\n",
            "0.008800384649796562\n",
            "\n",
            "\n",
            "O desvio padrão de Radius(R/Ro) para o tipo de estrela White Dwarf  é\n",
            "\n",
            "\n",
            "0.0017035079798756445\n",
            "\n",
            "\n",
            "O desvio padrão de Absolute magnitude(Mv) para o tipo de estrela White Dwarf  é\n",
            "\n",
            "\n",
            "1.2623049354256681\n",
            "\n",
            "\n",
            "O desvio padrão de Temperature (K) para o tipo de estrela Main Sequence  é\n",
            "\n",
            "\n",
            "10527.126048927124\n",
            "\n",
            "\n",
            "O desvio padrão de Luminosity(L/Lo) para o tipo de estrela Main Sequence  é\n",
            "\n",
            "\n",
            "68478.81904492721\n",
            "\n",
            "\n",
            "O desvio padrão de Radius(R/Ro) para o tipo de estrela Main Sequence  é\n",
            "\n",
            "\n",
            "2.7661512539989563\n",
            "\n",
            "\n",
            "O desvio padrão de Absolute magnitude(Mv) para o tipo de estrela Main Sequence  é\n",
            "\n",
            "\n",
            "3.5681362073742364\n",
            "\n",
            "\n",
            "O desvio padrão de Temperature (K) para o tipo de estrela Supergiant  é\n",
            "\n",
            "\n",
            "9959.90178302477\n",
            "\n",
            "\n",
            "O desvio padrão de Luminosity(L/Lo) para o tipo de estrela Supergiant  é\n",
            "\n",
            "\n",
            "173545.51805920398\n",
            "\n",
            "\n",
            "O desvio padrão de Radius(R/Ro) para o tipo de estrela Supergiant  é\n",
            "\n",
            "\n",
            "27.308927111843843\n",
            "\n",
            "\n",
            "O desvio padrão de Absolute magnitude(Mv) para o tipo de estrela Supergiant  é\n",
            "\n",
            "\n",
            "0.5530061205583533\n",
            "\n",
            "\n",
            "O desvio padrão de Temperature (K) para o tipo de estrela Hypergiant  é\n",
            "\n",
            "\n",
            "11668.344561676262\n",
            "\n",
            "\n",
            "O desvio padrão de Luminosity(L/Lo) para o tipo de estrela Hypergiant  é\n",
            "\n",
            "\n",
            "196836.42791592053\n",
            "\n",
            "\n",
            "O desvio padrão de Radius(R/Ro) para o tipo de estrela Hypergiant  é\n",
            "\n",
            "\n",
            "252.34662122515132\n",
            "\n",
            "\n",
            "O desvio padrão de Absolute magnitude(Mv) para o tipo de estrela Hypergiant  é\n",
            "\n",
            "\n",
            "1.435320325746138\n",
            "\n",
            "\n"
          ],
          "name": "stdout"
        }
      ]
    },
    {
      "cell_type": "code",
      "metadata": {
        "trusted": true,
        "id": "Kc1MkKbEE_bq"
      },
      "source": [
        "valoresmedios = []\n",
        "for i in colunasnumericas:\n",
        "    for j in np.unique(df['Star type']):\n",
        "        valoresmedios.append(np.mean(df[df['Star type']==j][i]))\n",
        "    \n",
        "        \n",
        "        "
      ],
      "execution_count": 73,
      "outputs": []
    },
    {
      "cell_type": "code",
      "metadata": {
        "trusted": true,
        "id": "dvNVXoD9E_bu"
      },
      "source": [
        "import seaborn as sns"
      ],
      "execution_count": null,
      "outputs": []
    },
    {
      "cell_type": "code",
      "metadata": {
        "trusted": true,
        "id": "YN2Co7fuE_b0",
        "outputId": "480f3363-c1a6-4fc3-fd9d-854948d0a5e7",
        "colab": {
          "base_uri": "https://localhost:8080/",
          "height": 354
        }
      },
      "source": [
        "plt.bar(numero_tipo.values(),valoresmedios[0:6], color= 'Pink')\n",
        "plt.xticks(rotation=45)\n",
        "plt.title('Temperatura Média (K)', fontsize= 17)\n",
        "#plt.grid(True)"
      ],
      "execution_count": 74,
      "outputs": [
        {
          "output_type": "execute_result",
          "data": {
            "text/plain": [
              "Text(0.5, 1.0, 'Temperatura Média (K)')"
            ]
          },
          "metadata": {
            "tags": []
          },
          "execution_count": 74
        },
        {
          "output_type": "display_data",
          "data": {
            "image/png": "[encoded data removed]",
            "text/plain": [
              "<Figure size 432x288 with 1 Axes>"
            ]
          },
          "metadata": {
            "tags": [],
            "needs_background": "light"
          }
        }
      ]
    },
    {
      "cell_type": "code",
      "metadata": {
        "trusted": true,
        "id": "oQ_TXUD2E_b3",
        "outputId": "57e5a28e-cd44-4b20-ba08-222c93204098",
        "colab": {
          "base_uri": "https://localhost:8080/",
          "height": 336
        }
      },
      "source": [
        "plt.bar(numero_tipo.values(),valoresmedios[6:12], color= 'Yellow')\n",
        "plt.xticks(rotation=45)\n",
        "plt.title('Luminosidade Média (L/Lo)', fontsize= 17)\n",
        "plt.semilogy()\n",
        "plt.grid(True)"
      ],
      "execution_count": 75,
      "outputs": [
        {
          "output_type": "display_data",
          "data": {
            "image/png": "[encoded data removed]",
            "text/plain": [
              "<Figure size 432x288 with 1 Axes>"
            ]
          },
          "metadata": {
            "tags": [],
            "needs_background": "light"
          }
        }
      ]
    },
    {
      "cell_type": "code",
      "metadata": {
        "trusted": true,
        "id": "zcewGqKXE_b6",
        "outputId": "e4ba9e18-7ac7-4088-d13c-a1b59990fdd0",
        "colab": {
          "base_uri": "https://localhost:8080/",
          "height": 336
        }
      },
      "source": [
        "plt.bar(numero_tipo.values(),valoresmedios[12:18], color= 'Purple')\n",
        "plt.xticks(rotation=45)\n",
        "plt.title('Raio Médio (R/Ro)', fontsize= 17)\n",
        "plt.semilogy()\n",
        "plt.grid(True)"
      ],
      "execution_count": 76,
      "outputs": [
        {
          "output_type": "display_data",
          "data": {
            "image/png": "[encoded data removed]",
            "text/plain": [
              "<Figure size 432x288 with 1 Axes>"
            ]
          },
          "metadata": {
            "tags": [],
            "needs_background": "light"
          }
        }
      ]
    },
    {
      "cell_type": "code",
      "metadata": {
        "trusted": true,
        "id": "ZcnqEO4HE_b8",
        "outputId": "02d6a221-8f6a-4589-e22d-890bca8542aa",
        "colab": {
          "base_uri": "https://localhost:8080/",
          "height": 337
        }
      },
      "source": [
        "plt.bar(numero_tipo.values(),valoresmedios[18:24], color= 'Pink')\n",
        "plt.xticks(rotation=45)\n",
        "plt.title('Magnitude Absoluta Média (Mv)', fontsize= 17)\n",
        "#plt.semilogy()\n",
        "plt.grid(True)"
      ],
      "execution_count": 77,
      "outputs": [
        {
          "output_type": "display_data",
          "data": {
            "image/png": "[encoded data removed]",
            "text/plain": [
              "<Figure size 432x288 with 1 Axes>"
            ]
          },
          "metadata": {
            "tags": [],
            "needs_background": "light"
          }
        }
      ]
    },
    {
      "cell_type": "code",
      "metadata": {
        "trusted": true,
        "id": "dUbqbsRGE_cI"
      },
      "source": [
        ""
      ],
      "execution_count": null,
      "outputs": []
    },
    {
      "cell_type": "code",
      "metadata": {
        "trusted": true,
        "id": "2IDXdfZxE_cM"
      },
      "source": [
        ""
      ],
      "execution_count": null,
      "outputs": []
    },
    {
      "cell_type": "code",
      "metadata": {
        "trusted": true,
        "id": "JwRMFRwqE_cY"
      },
      "source": [
        ""
      ],
      "execution_count": null,
      "outputs": []
    }
  ]
}