{
  "nbformat": 4,
  "nbformat_minor": 0,
  "metadata": {
    "colab": {
      "name": "AulaCeli.ipynb",
      "provenance": [],
      "collapsed_sections": []
    },
    "kernelspec": {
      "name": "python3",
      "display_name": "Python 3"
    }
  },
  "cells": [
    {
      "cell_type": "code",
      "metadata": {
        "id": "r1vCYGif412O",
        "colab_type": "code",
        "colab": {}
      },
      "source": [
        "import pandas as pd"
      ],
      "execution_count": null,
      "outputs": []
    },
    {
      "cell_type": "code",
      "metadata": {
        "id": "rIXEPyIX5T8m",
        "colab_type": "code",
        "colab": {}
      },
      "source": [
        "import numpy as np"
      ],
      "execution_count": null,
      "outputs": []
    },
    {
      "cell_type": "code",
      "metadata": {
        "id": "mXJ3AO125U0x",
        "colab_type": "code",
        "colab": {}
      },
      "source": [
        "import panda as pd"
      ],
      "execution_count": null,
      "outputs": []
    },
    {
      "cell_type": "markdown",
      "metadata": {
        "id": "P4xM3zlk5VZ2",
        "colab_type": "text"
      },
      "source": [
        "Oi Celi! Hoje vamos aprender algumas coisas básicas de programação pra te ajudar a completar aquele tutorial que já começamos"
      ]
    },
    {
      "cell_type": "markdown",
      "metadata": {
        "id": "gJkX3RsM8SwK",
        "colab_type": "text"
      },
      "source": [
        "#variáveis numéricas"
      ]
    },
    {
      "cell_type": "code",
      "metadata": {
        "id": "1uwBnk9Z5WIr",
        "colab_type": "code",
        "colab": {}
      },
      "source": [
        "x = 1"
      ],
      "execution_count": null,
      "outputs": []
    },
    {
      "cell_type": "code",
      "metadata": {
        "id": "YVZLTVnM5Wpf",
        "colab_type": "code",
        "colab": {}
      },
      "source": [
        "y = 5"
      ],
      "execution_count": null,
      "outputs": []
    },
    {
      "cell_type": "code",
      "metadata": {
        "id": "h3pvF9Bv5XBF",
        "colab_type": "code",
        "colab": {
          "base_uri": "https://localhost:8080/",
          "height": 34
        },
        "outputId": "982c3bc4-a432-4d3a-ad5f-a2b0733e7d45"
      },
      "source": [
        "x + y"
      ],
      "execution_count": null,
      "outputs": [
        {
          "output_type": "execute_result",
          "data": {
            "text/plain": [
              "6"
            ]
          },
          "metadata": {
            "tags": []
          },
          "execution_count": 4
        }
      ]
    },
    {
      "cell_type": "markdown",
      "metadata": {
        "id": "HFih3-Hw6ndm",
        "colab_type": "text"
      },
      "source": [
        "#Strings abaixo!"
      ]
    },
    {
      "cell_type": "code",
      "metadata": {
        "id": "XzO-it7H7ePw",
        "colab_type": "code",
        "colab": {}
      },
      "source": [
        "nome = 'Pedro'"
      ],
      "execution_count": null,
      "outputs": []
    },
    {
      "cell_type": "code",
      "metadata": {
        "id": "bKvQq2dE7ewc",
        "colab_type": "code",
        "colab": {}
      },
      "source": [
        "sobrenome = 'Gomes'"
      ],
      "execution_count": null,
      "outputs": []
    },
    {
      "cell_type": "code",
      "metadata": {
        "id": "ZKmPs9E97fTa",
        "colab_type": "code",
        "colab": {
          "base_uri": "https://localhost:8080/",
          "height": 34
        },
        "outputId": "da7876c2-fc39-47de-ca24-1e74d718be2f"
      },
      "source": [
        "nome+sobrenome"
      ],
      "execution_count": null,
      "outputs": [
        {
          "output_type": "execute_result",
          "data": {
            "text/plain": [
              "'PedroGomes'"
            ]
          },
          "metadata": {
            "tags": []
          },
          "execution_count": 9
        }
      ]
    },
    {
      "cell_type": "code",
      "metadata": {
        "id": "8CF02EhA7ocS",
        "colab_type": "code",
        "colab": {
          "base_uri": "https://localhost:8080/",
          "height": 34
        },
        "outputId": "4abcc62d-865f-430c-ca6f-3ff32d8fd2c8"
      },
      "source": [
        "nome+' '+ sobrenome"
      ],
      "execution_count": null,
      "outputs": [
        {
          "output_type": "execute_result",
          "data": {
            "text/plain": [
              "'Pedro Gomes'"
            ]
          },
          "metadata": {
            "tags": []
          },
          "execution_count": 11
        }
      ]
    },
    {
      "cell_type": "markdown",
      "metadata": {
        "id": "zNpZd5Xo8pHi",
        "colab_type": "text"
      },
      "source": [
        "#Definindo funções"
      ]
    },
    {
      "cell_type": "code",
      "metadata": {
        "id": "UJP4R3ZB8Et1",
        "colab_type": "code",
        "colab": {}
      },
      "source": [
        "def soma(x,y):\n",
        "  return x+y"
      ],
      "execution_count": null,
      "outputs": []
    },
    {
      "cell_type": "code",
      "metadata": {
        "id": "8mlT1KDb8PGe",
        "colab_type": "code",
        "colab": {
          "base_uri": "https://localhost:8080/",
          "height": 34
        },
        "outputId": "a23b752f-264f-4ea9-875b-1e91afd34d24"
      },
      "source": [
        "soma(100,23)"
      ],
      "execution_count": null,
      "outputs": [
        {
          "output_type": "execute_result",
          "data": {
            "text/plain": [
              "123"
            ]
          },
          "metadata": {
            "tags": []
          },
          "execution_count": 14
        }
      ]
    },
    {
      "cell_type": "code",
      "metadata": {
        "id": "uUbUoIIq8PsA",
        "colab_type": "code",
        "colab": {
          "base_uri": "https://localhost:8080/",
          "height": 34
        },
        "outputId": "68857225-73f3-4b88-ebf4-37ff4d309be9"
      },
      "source": [
        "soma(1000,789)"
      ],
      "execution_count": null,
      "outputs": [
        {
          "output_type": "execute_result",
          "data": {
            "text/plain": [
              "1789"
            ]
          },
          "metadata": {
            "tags": []
          },
          "execution_count": 15
        }
      ]
    },
    {
      "cell_type": "code",
      "metadata": {
        "id": "gGyY-WbW8-VQ",
        "colab_type": "code",
        "colab": {
          "base_uri": "https://localhost:8080/",
          "height": 34
        },
        "outputId": "71c4e749-4596-46fd-94d3-885fed1d6500"
      },
      "source": [
        "soma(1111,1111)"
      ],
      "execution_count": null,
      "outputs": [
        {
          "output_type": "execute_result",
          "data": {
            "text/plain": [
              "2222"
            ]
          },
          "metadata": {
            "tags": []
          },
          "execution_count": 16
        }
      ]
    },
    {
      "cell_type": "code",
      "metadata": {
        "id": "zAZEzOxe9BCW",
        "colab_type": "code",
        "colab": {}
      },
      "source": [
        "def NomeInteiro(x,y):\n",
        "  return x + ' ' + y"
      ],
      "execution_count": null,
      "outputs": []
    },
    {
      "cell_type": "markdown",
      "metadata": {
        "id": "Q6wiKjfF9nUg",
        "colab_type": "text"
      },
      "source": [
        "Variáveis locais -> as que existem no interior de uma função!\n",
        "\n",
        "Variáveis Globais -> as que estão definidos no ambiente de programação"
      ]
    },
    {
      "cell_type": "code",
      "metadata": {
        "id": "JzWryVsd9LGT",
        "colab_type": "code",
        "colab": {
          "base_uri": "https://localhost:8080/",
          "height": 34
        },
        "outputId": "085e5e21-4c51-48e2-a92a-1586c0da9b0d"
      },
      "source": [
        "NomeInteiro('Pedro','Gomes')"
      ],
      "execution_count": null,
      "outputs": [
        {
          "output_type": "execute_result",
          "data": {
            "text/plain": [
              "'Pedro Gomes'"
            ]
          },
          "metadata": {
            "tags": []
          },
          "execution_count": 20
        }
      ]
    },
    {
      "cell_type": "code",
      "metadata": {
        "id": "LH-tf5Dv9TQG",
        "colab_type": "code",
        "colab": {}
      },
      "source": [
        "def diferenca(a,b):\n",
        "  return a-b"
      ],
      "execution_count": null,
      "outputs": []
    },
    {
      "cell_type": "code",
      "metadata": {
        "id": "44YC691U-_wN",
        "colab_type": "code",
        "colab": {
          "base_uri": "https://localhost:8080/",
          "height": 34
        },
        "outputId": "2d22ba3f-13b1-485b-90f1-8460e27e73c0"
      },
      "source": [
        "diferenca(45,8)"
      ],
      "execution_count": null,
      "outputs": [
        {
          "output_type": "execute_result",
          "data": {
            "text/plain": [
              "37"
            ]
          },
          "metadata": {
            "tags": []
          },
          "execution_count": 2
        }
      ]
    },
    {
      "cell_type": "markdown",
      "metadata": {
        "id": "9ls3mx-5BUfk",
        "colab_type": "text"
      },
      "source": [
        "#Loops !"
      ]
    },
    {
      "cell_type": "code",
      "metadata": {
        "id": "BriMLRwL_TA7",
        "colab_type": "code",
        "colab": {}
      },
      "source": [
        "def repeticao(x,y):\n",
        "  a = 'oi';\n",
        "  for i in range(1,y+1):\n",
        "    print(a)\n",
        "  return a"
      ],
      "execution_count": null,
      "outputs": []
    },
    {
      "cell_type": "code",
      "metadata": {
        "id": "gaBHzDmU_yRu",
        "colab_type": "code",
        "colab": {
          "base_uri": "https://localhost:8080/",
          "height": 119
        },
        "outputId": "40bd779c-a55b-459d-b3c7-20c745626fd2"
      },
      "source": [
        "repeticao(1,5)"
      ],
      "execution_count": null,
      "outputs": [
        {
          "output_type": "stream",
          "text": [
            "oi\n",
            "oi\n",
            "oi\n",
            "oi\n",
            "oi\n"
          ],
          "name": "stdout"
        },
        {
          "output_type": "execute_result",
          "data": {
            "text/plain": [
              "'oi'"
            ]
          },
          "metadata": {
            "tags": []
          },
          "execution_count": 59
        }
      ]
    },
    {
      "cell_type": "code",
      "metadata": {
        "id": "45yQJzG1AP9C",
        "colab_type": "code",
        "colab": {}
      },
      "source": [
        "def TabuadaExponencial(x,y):\n",
        "  fim = 1\n",
        "  tabuada = []\n",
        "  for i in range(1,y+1):\n",
        "    tabuada.append(fim) # inclui a variável 'fim' na lista 'tabuada'\n",
        "    fim = fim*x         # atualiza o valor da variável fim com o valor anteiror de fim multiplicado por x\n",
        "    print(str(x)+' elevado a ' + str(i) +' é igual a '+ str(fim) )   # imprime a string entre os parenteses\n",
        "  tabuada.append(fim)\n",
        "  return tabuada"
      ],
      "execution_count": null,
      "outputs": []
    },
    {
      "cell_type": "code",
      "metadata": {
        "id": "iv7r8asHI8oh",
        "colab_type": "code",
        "colab": {
          "base_uri": "https://localhost:8080/",
          "height": 204
        },
        "outputId": "a76768eb-1dde-40a4-80e7-953f7d37256f"
      },
      "source": [
        "TabuadaExponencial(2,10)"
      ],
      "execution_count": null,
      "outputs": [
        {
          "output_type": "stream",
          "text": [
            "2 elevado a 1 é igual a 2\n",
            "2 elevado a 2 é igual a 4\n",
            "2 elevado a 3 é igual a 8\n",
            "2 elevado a 4 é igual a 16\n",
            "2 elevado a 5 é igual a 32\n",
            "2 elevado a 6 é igual a 64\n",
            "2 elevado a 7 é igual a 128\n",
            "2 elevado a 8 é igual a 256\n",
            "2 elevado a 9 é igual a 512\n",
            "2 elevado a 10 é igual a 1024\n"
          ],
          "name": "stdout"
        },
        {
          "output_type": "execute_result",
          "data": {
            "text/plain": [
              "[1, 2, 4, 8, 16, 32, 64, 128, 256, 512, 1024]"
            ]
          },
          "metadata": {
            "tags": []
          },
          "execution_count": 92
        }
      ]
    },
    {
      "cell_type": "code",
      "metadata": {
        "id": "3K1Af3TOLxfY",
        "colab_type": "code",
        "colab": {
          "base_uri": "https://localhost:8080/",
          "height": 204
        },
        "outputId": "d54e6915-26e1-40f0-a311-507634f779e0"
      },
      "source": [
        "TabuadaExponencial(3,10)"
      ],
      "execution_count": null,
      "outputs": [
        {
          "output_type": "stream",
          "text": [
            "3 elevado a 1 é igual a 3\n",
            "3 elevado a 2 é igual a 9\n",
            "3 elevado a 3 é igual a 27\n",
            "3 elevado a 4 é igual a 81\n",
            "3 elevado a 5 é igual a 243\n",
            "3 elevado a 6 é igual a 729\n",
            "3 elevado a 7 é igual a 2187\n",
            "3 elevado a 8 é igual a 6561\n",
            "3 elevado a 9 é igual a 19683\n",
            "3 elevado a 10 é igual a 59049\n"
          ],
          "name": "stdout"
        },
        {
          "output_type": "execute_result",
          "data": {
            "text/plain": [
              "[1, 3, 9, 27, 81, 243, 729, 2187, 6561, 19683, 59049]"
            ]
          },
          "metadata": {
            "tags": []
          },
          "execution_count": 93
        }
      ]
    },
    {
      "cell_type": "code",
      "metadata": {
        "id": "4QGF_ybmMSwS",
        "colab_type": "code",
        "colab": {
          "base_uri": "https://localhost:8080/",
          "height": 204
        },
        "outputId": "5b813fab-e3aa-477d-ee34-f2e9d405bce0"
      },
      "source": [
        "TabuadaExponencial(4,10)"
      ],
      "execution_count": null,
      "outputs": [
        {
          "output_type": "stream",
          "text": [
            "4 elevado a 1 é igual a 4\n",
            "4 elevado a 2 é igual a 16\n",
            "4 elevado a 3 é igual a 64\n",
            "4 elevado a 4 é igual a 256\n",
            "4 elevado a 5 é igual a 1024\n",
            "4 elevado a 6 é igual a 4096\n",
            "4 elevado a 7 é igual a 16384\n",
            "4 elevado a 8 é igual a 65536\n",
            "4 elevado a 9 é igual a 262144\n",
            "4 elevado a 10 é igual a 1048576\n"
          ],
          "name": "stdout"
        },
        {
          "output_type": "execute_result",
          "data": {
            "text/plain": [
              "[1, 4, 16, 64, 256, 1024, 4096, 16384, 65536, 262144, 1048576]"
            ]
          },
          "metadata": {
            "tags": []
          },
          "execution_count": 94
        }
      ]
    },
    {
      "cell_type": "code",
      "metadata": {
        "id": "QH1B_K3vNL27",
        "colab_type": "code",
        "colab": {}
      },
      "source": [
        "import matplotlib.pyplot as plt"
      ],
      "execution_count": null,
      "outputs": []
    },
    {
      "cell_type": "code",
      "metadata": {
        "id": "VxI1-lmNNO9_",
        "colab_type": "code",
        "colab": {
          "base_uri": "https://localhost:8080/",
          "height": 449
        },
        "outputId": "dc6861d4-585a-4735-bfc7-73d9a6a717f4"
      },
      "source": [
        "plt.plot(TabuadaExponencial(2,10))\n",
        "plt.xlabel('y')\n",
        "plt.ylabel('2^y')\n",
        "plt.show()"
      ],
      "execution_count": null,
      "outputs": [
        {
          "output_type": "stream",
          "text": [
            "2 elevado a 1 é igual a 2\n",
            "2 elevado a 2 é igual a 4\n",
            "2 elevado a 3 é igual a 8\n",
            "2 elevado a 4 é igual a 16\n",
            "2 elevado a 5 é igual a 32\n",
            "2 elevado a 6 é igual a 64\n",
            "2 elevado a 7 é igual a 128\n",
            "2 elevado a 8 é igual a 256\n",
            "2 elevado a 9 é igual a 512\n",
            "2 elevado a 10 é igual a 1024\n"
          ],
          "name": "stdout"
        },
        {
          "output_type": "display_data",
          "data": {
            "image/png": "[encoded data removed]",
            "text/plain": [
              "<Figure size 432x288 with 1 Axes>"
            ]
          },
          "metadata": {
            "tags": [],
            "needs_background": "light"
          }
        }
      ]
    },
    {
      "cell_type": "code",
      "metadata": {
        "id": "4oX_m3nQPAQI",
        "colab_type": "code",
        "colab": {
          "base_uri": "https://localhost:8080/",
          "height": 415
        },
        "outputId": "d2a6400c-6ef4-47ac-c656-008aba426c14"
      },
      "source": [
        "plt.plot(TabuadaExponencial(3,8))\n",
        "plt.xlabel('y')\n",
        "plt.ylabel('3^y')\n",
        "plt.show()"
      ],
      "execution_count": null,
      "outputs": [
        {
          "output_type": "stream",
          "text": [
            "3 elevado a 1 é igual a 3\n",
            "3 elevado a 2 é igual a 9\n",
            "3 elevado a 3 é igual a 27\n",
            "3 elevado a 4 é igual a 81\n",
            "3 elevado a 5 é igual a 243\n",
            "3 elevado a 6 é igual a 729\n",
            "3 elevado a 7 é igual a 2187\n",
            "3 elevado a 8 é igual a 6561\n"
          ],
          "name": "stdout"
        },
        {
          "output_type": "display_data",
          "data": {
            "image/png": "[encoded data removed]",
            "text/plain": [
              "<Figure size 432x288 with 1 Axes>"
            ]
          },
          "metadata": {
            "tags": [],
            "needs_background": "light"
          }
        }
      ]
    },
    {
      "cell_type": "code",
      "metadata": {
        "id": "bHIoSRDdQaME",
        "colab_type": "code",
        "colab": {
          "base_uri": "https://localhost:8080/",
          "height": 1000
        },
        "outputId": "ffd185b1-6b1f-4aad-ad97-27520d02205c"
      },
      "source": [
        "plt.plot(TabuadaExponencial(3,100))\n",
        "plt.xlabel('y')\n",
        "plt.ylabel('3^y')\n",
        "plt.show()"
      ],
      "execution_count": null,
      "outputs": [
        {
          "output_type": "stream",
          "text": [
            "3 elevado a 1 é igual a 3\n",
            "3 elevado a 2 é igual a 9\n",
            "3 elevado a 3 é igual a 27\n",
            "3 elevado a 4 é igual a 81\n",
            "3 elevado a 5 é igual a 243\n",
            "3 elevado a 6 é igual a 729\n",
            "3 elevado a 7 é igual a 2187\n",
            "3 elevado a 8 é igual a 6561\n",
            "3 elevado a 9 é igual a 19683\n",
            "3 elevado a 10 é igual a 59049\n",
            "3 elevado a 11 é igual a 177147\n",
            "3 elevado a 12 é igual a 531441\n",
            "3 elevado a 13 é igual a 1594323\n",
            "3 elevado a 14 é igual a 4782969\n",
            "3 elevado a 15 é igual a 14348907\n",
            "3 elevado a 16 é igual a 43046721\n",
            "3 elevado a 17 é igual a 129140163\n",
            "3 elevado a 18 é igual a 387420489\n",
            "3 elevado a 19 é igual a 1162261467\n",
            "3 elevado a 20 é igual a 3486784401\n",
            "3 elevado a 21 é igual a 10460353203\n",
            "3 elevado a 22 é igual a 31381059609\n",
            "3 elevado a 23 é igual a 94143178827\n",
            "3 elevado a 24 é igual a 282429536481\n",
            "3 elevado a 25 é igual a 847288609443\n",
            "3 elevado a 26 é igual a 2541865828329\n",
            "3 elevado a 27 é igual a 7625597484987\n",
            "3 elevado a 28 é igual a 22876792454961\n",
            "3 elevado a 29 é igual a 68630377364883\n",
            "3 elevado a 30 é igual a 205891132094649\n",
            "3 elevado a 31 é igual a 617673396283947\n",
            "3 elevado a 32 é igual a 1853020188851841\n",
            "3 elevado a 33 é igual a 5559060566555523\n",
            "3 elevado a 34 é igual a 16677181699666569\n",
            "3 elevado a 35 é igual a 50031545098999707\n",
            "3 elevado a 36 é igual a 150094635296999121\n",
            "3 elevado a 37 é igual a 450283905890997363\n",
            "3 elevado a 38 é igual a 1350851717672992089\n",
            "3 elevado a 39 é igual a 4052555153018976267\n",
            "3 elevado a 40 é igual a 12157665459056928801\n",
            "3 elevado a 41 é igual a 36472996377170786403\n",
            "3 elevado a 42 é igual a 109418989131512359209\n",
            "3 elevado a 43 é igual a 328256967394537077627\n",
            "3 elevado a 44 é igual a 984770902183611232881\n",
            "3 elevado a 45 é igual a 2954312706550833698643\n",
            "3 elevado a 46 é igual a 8862938119652501095929\n",
            "3 elevado a 47 é igual a 26588814358957503287787\n",
            "3 elevado a 48 é igual a 79766443076872509863361\n",
            "3 elevado a 49 é igual a 239299329230617529590083\n",
            "3 elevado a 50 é igual a 717897987691852588770249\n",
            "3 elevado a 51 é igual a 2153693963075557766310747\n",
            "3 elevado a 52 é igual a 6461081889226673298932241\n",
            "3 elevado a 53 é igual a 19383245667680019896796723\n",
            "3 elevado a 54 é igual a 58149737003040059690390169\n",
            "3 elevado a 55 é igual a 174449211009120179071170507\n",
            "3 elevado a 56 é igual a 523347633027360537213511521\n",
            "3 elevado a 57 é igual a 1570042899082081611640534563\n",
            "3 elevado a 58 é igual a 4710128697246244834921603689\n",
            "3 elevado a 59 é igual a 14130386091738734504764811067\n",
            "3 elevado a 60 é igual a 42391158275216203514294433201\n",
            "3 elevado a 61 é igual a 127173474825648610542883299603\n",
            "3 elevado a 62 é igual a 381520424476945831628649898809\n",
            "3 elevado a 63 é igual a 1144561273430837494885949696427\n",
            "3 elevado a 64 é igual a 3433683820292512484657849089281\n",
            "3 elevado a 65 é igual a 10301051460877537453973547267843\n",
            "3 elevado a 66 é igual a 30903154382632612361920641803529\n",
            "3 elevado a 67 é igual a 92709463147897837085761925410587\n",
            "3 elevado a 68 é igual a 278128389443693511257285776231761\n",
            "3 elevado a 69 é igual a 834385168331080533771857328695283\n",
            "3 elevado a 70 é igual a 2503155504993241601315571986085849\n",
            "3 elevado a 71 é igual a 7509466514979724803946715958257547\n",
            "3 elevado a 72 é igual a 22528399544939174411840147874772641\n",
            "3 elevado a 73 é igual a 67585198634817523235520443624317923\n",
            "3 elevado a 74 é igual a 202755595904452569706561330872953769\n",
            "3 elevado a 75 é igual a 608266787713357709119683992618861307\n",
            "3 elevado a 76 é igual a 1824800363140073127359051977856583921\n",
            "3 elevado a 77 é igual a 5474401089420219382077155933569751763\n",
            "3 elevado a 78 é igual a 16423203268260658146231467800709255289\n",
            "3 elevado a 79 é igual a 49269609804781974438694403402127765867\n",
            "3 elevado a 80 é igual a 147808829414345923316083210206383297601\n",
            "3 elevado a 81 é igual a 443426488243037769948249630619149892803\n",
            "3 elevado a 82 é igual a 1330279464729113309844748891857449678409\n",
            "3 elevado a 83 é igual a 3990838394187339929534246675572349035227\n",
            "3 elevado a 84 é igual a 11972515182562019788602740026717047105681\n",
            "3 elevado a 85 é igual a 35917545547686059365808220080151141317043\n",
            "3 elevado a 86 é igual a 107752636643058178097424660240453423951129\n",
            "3 elevado a 87 é igual a 323257909929174534292273980721360271853387\n",
            "3 elevado a 88 é igual a 969773729787523602876821942164080815560161\n",
            "3 elevado a 89 é igual a 2909321189362570808630465826492242446680483\n",
            "3 elevado a 90 é igual a 8727963568087712425891397479476727340041449\n",
            "3 elevado a 91 é igual a 26183890704263137277674192438430182020124347\n",
            "3 elevado a 92 é igual a 78551672112789411833022577315290546060373041\n",
            "3 elevado a 93 é igual a 235655016338368235499067731945871638181119123\n",
            "3 elevado a 94 é igual a 706965049015104706497203195837614914543357369\n",
            "3 elevado a 95 é igual a 2120895147045314119491609587512844743630072107\n",
            "3 elevado a 96 é igual a 6362685441135942358474828762538534230890216321\n",
            "3 elevado a 97 é igual a 19088056323407827075424486287615602692670648963\n",
            "3 elevado a 98 é igual a 57264168970223481226273458862846808078011946889\n",
            "3 elevado a 99 é igual a 171792506910670443678820376588540424234035840667\n",
            "3 elevado a 100 é igual a 515377520732011331036461129765621272702107522001\n"
          ],
          "name": "stdout"
        },
        {
          "output_type": "display_data",
          "data": {
            "image/png": "[encoded data removed]",
            "text/plain": [
              "<Figure size 432x288 with 1 Axes>"
            ]
          },
          "metadata": {
            "tags": [],
            "needs_background": "light"
          }
        }
      ]
    },
    {
      "cell_type": "markdown",
      "metadata": {
        "id": "v8upE9zMJ9J_",
        "colab_type": "text"
      },
      "source": [
        "em inglês: 2 elevado a 10;  $2^{10}$   ou  2^10\n",
        "\n",
        "two to the power of ten!\n",
        "\n",
        "traduzido literalmente seria:\n",
        "\n",
        "dois ao poder de dez"
      ]
    },
    {
      "cell_type": "markdown",
      "metadata": {
        "id": "pBsyhJJVxSTF",
        "colab_type": "text"
      },
      "source": [
        "for indica o loop\n"
      ]
    },
    {
      "cell_type": "markdown",
      "metadata": {
        "id": "2yOAIrmgwwo5",
        "colab_type": "text"
      },
      "source": [
        "append adiciona um elemento a uma lista\n"
      ]
    },
    {
      "cell_type": "markdown",
      "metadata": {
        "id": "YePuHyxEEnhk",
        "colab_type": "text"
      },
      "source": [
        "Erro de identação!\n",
        "\n",
        "o que é identação -> escadinha das linhas -> define o ambiente em que vc está programando;\n",
        "\n",
        "um loop sempre define uma nova identação, um novo degrau na escadinha\n",
        "\n",
        "traduzindo:\n",
        "\n",
        "'for i in range(0,11)'\n",
        "\n",
        "'para i dentro do conjunto {0,1,2,3,4,5,6,7,8,9,10}, faça isso que vem abaixo'"
      ]
    },
    {
      "cell_type": "code",
      "metadata": {
        "id": "3NJqmsIxEF6K",
        "colab_type": "code",
        "colab": {}
      },
      "source": [
        "def exponencial_errada_pelo_joao(x,y):\n",
        "  fim = 1\n",
        "  for i in range(1,y+1):\n",
        "    fim = fim*x\n",
        "    return fim"
      ],
      "execution_count": null,
      "outputs": []
    },
    {
      "cell_type": "code",
      "metadata": {
        "id": "IJ9ySZo3Ebsm",
        "colab_type": "code",
        "colab": {}
      },
      "source": [
        "def repeticao2(x):\n",
        "  for i in range(1,x):\n",
        "    print(i)\n",
        "    print('Hello World!')\n",
        "  return "
      ],
      "execution_count": null,
      "outputs": []
    },
    {
      "cell_type": "code",
      "metadata": {
        "id": "XWeVBbiBEcIE",
        "colab_type": "code",
        "colab": {
          "base_uri": "https://localhost:8080/",
          "height": 221
        },
        "outputId": "9f8952ef-eb9d-45a4-8851-8f4db2239c89"
      },
      "source": [
        "repeticao2(7)"
      ],
      "execution_count": null,
      "outputs": [
        {
          "output_type": "stream",
          "text": [
            "1\n",
            "Hello World!\n",
            "2\n",
            "Hello World!\n",
            "3\n",
            "Hello World!\n",
            "4\n",
            "Hello World!\n",
            "5\n",
            "Hello World!\n",
            "6\n",
            "Hello World!\n"
          ],
          "name": "stdout"
        }
      ]
    },
    {
      "cell_type": "markdown",
      "metadata": {
        "id": "l2PCAqJTHn9A",
        "colab_type": "text"
      },
      "source": [
        "variável i dentro do loop! se chama Index! ou índice"
      ]
    },
    {
      "cell_type": "markdown",
      "metadata": {
        "id": "sbPPKv3_RaPG",
        "colab_type": "text"
      },
      "source": [
        "#Dever de Casa!\n",
        "\n",
        "\n",
        "defina a função TabuadaMultiplicativa, \n",
        "\n",
        "e gere a tabuada de multiplicação dos números 2, 5 e 9 e faça seus gráficos. \n",
        "\n",
        "qual diferença vc vê entre eles? qual é a explicação para essa diferença? \n",
        "\n"
      ]
    },
    {
      "cell_type": "code",
      "metadata": {
        "id": "eYfSQKmuAppq",
        "colab_type": "code",
        "colab": {}
      },
      "source": [
        "# altere esse código copiado da tabuada exponencial para representar a tabuada multiplicativa\n",
        "\n",
        "# vc tem que alterar somente duas linhas\n",
        "# fim = fim*x\n",
        "# print(str(x)+' elevado a ' + str(i) +' é igual a '+ str(fim) )\n",
        "\n",
        "# dica:\n",
        "# exemplo de exponenciação\n",
        "# 4^5 = 4*4*4*4*4\n",
        "# exemplo de multiplicação\n",
        "# 4*5 = 4 + 4 + 4 + 4 + 4\n",
        "\n",
        "def TabuadaMultiplicativa(x,y):\n",
        "  fim = 1\n",
        "  tabuada = []\n",
        "  for i in range(1,y+1):\n",
        "    tabuada.append(fim)\n",
        "    fim = fim+x\n",
        "    print(str(x)+' vezes ' + str(i) +' é igual a '+ str(fim) )\n",
        "  tabuada.append(fim)\n",
        "  return tabuada"
      ],
      "execution_count": null,
      "outputs": []
    },
    {
      "cell_type": "code",
      "metadata": {
        "id": "wsbDp4ETAvaN",
        "colab_type": "code",
        "colab": {
          "base_uri": "https://localhost:8080/",
          "height": 136
        },
        "outputId": "aca3caf5-2819-452e-d91d-7e72c0516f5e"
      },
      "source": [
        "TabuadaExponencial(4,6)"
      ],
      "execution_count": null,
      "outputs": [
        {
          "output_type": "stream",
          "text": [
            "4 elevado a 1 é igual a 4\n",
            "4 elevado a 2 é igual a 16\n",
            "4 elevado a 3 é igual a 64\n",
            "4 elevado a 4 é igual a 256\n",
            "4 elevado a 5 é igual a 1024\n",
            "4 elevado a 6 é igual a 4096\n"
          ],
          "name": "stdout"
        },
        {
          "output_type": "execute_result",
          "data": {
            "text/plain": [
              "[1, 4, 16, 64, 256, 1024, 4096]"
            ]
          },
          "metadata": {
            "tags": []
          },
          "execution_count": 109
        }
      ]
    },
    {
      "cell_type": "code",
      "metadata": {
        "id": "UFGzhqLKAyBd",
        "colab_type": "code",
        "colab": {}
      },
      "source": [
        "def TabuadaMultiplicativa(x,y):\n",
        "  fim = 0\n",
        "  tabuada = []\n",
        "  for i in range(1,y+1):\n",
        "    tabuada.append(fim)\n",
        "    fim = fim+x\n",
        "    print(str(x)+' x ' + str(i) +' = '+ str(fim) )\n",
        "  tabuada.append(fim)\n",
        "  return tabuada"
      ],
      "execution_count": null,
      "outputs": []
    },
    {
      "cell_type": "code",
      "metadata": {
        "id": "ZYRJMWJM-h-_",
        "colab_type": "code",
        "colab": {
          "base_uri": "https://localhost:8080/",
          "height": 374
        },
        "outputId": "f7815cba-9db6-408c-d465-b2fe8d6bb2f8"
      },
      "source": [
        "TabuadaMultiplicativa(2,20)\n"
      ],
      "execution_count": null,
      "outputs": [
        {
          "output_type": "stream",
          "text": [
            "2 x 1 = 2\n",
            "2 x 2 = 4\n",
            "2 x 3 = 6\n",
            "2 x 4 = 8\n",
            "2 x 5 = 10\n",
            "2 x 6 = 12\n",
            "2 x 7 = 14\n",
            "2 x 8 = 16\n",
            "2 x 9 = 18\n",
            "2 x 10 = 20\n",
            "2 x 11 = 22\n",
            "2 x 12 = 24\n",
            "2 x 13 = 26\n",
            "2 x 14 = 28\n",
            "2 x 15 = 30\n",
            "2 x 16 = 32\n",
            "2 x 17 = 34\n",
            "2 x 18 = 36\n",
            "2 x 19 = 38\n",
            "2 x 20 = 40\n"
          ],
          "name": "stdout"
        },
        {
          "output_type": "execute_result",
          "data": {
            "text/plain": [
              "[0, 2, 4, 6, 8, 10, 12, 14, 16, 18, 20, 22, 24, 26, 28, 30, 32, 34, 36, 38, 40]"
            ]
          },
          "metadata": {
            "tags": []
          },
          "execution_count": 19
        }
      ]
    },
    {
      "cell_type": "code",
      "metadata": {
        "id": "qnjuMXUs-uVc",
        "colab_type": "code",
        "colab": {}
      },
      "source": [
        "def TM(a,b):\n",
        "  iterador = 0\n",
        "  t = []\n",
        "  for j in range(1 , b+1):\n",
        "    t.append(iterador)\n",
        "    iterador = iterador+a\n",
        "    print(str(a)+' vezes ' + str(j) +' é igual a '+ str(iterador) )\n",
        "  t.append(iterador)\n",
        "  return t"
      ],
      "execution_count": null,
      "outputs": []
    },
    {
      "cell_type": "code",
      "metadata": {
        "id": "eGi7msHIEX6M",
        "colab_type": "code",
        "colab": {
          "base_uri": "https://localhost:8080/",
          "height": 119
        },
        "outputId": "e11d0084-7fb6-4a59-a86d-7ca0d11f0fd1"
      },
      "source": [
        "TabuadaMultiplicativa(4,5)"
      ],
      "execution_count": null,
      "outputs": [
        {
          "output_type": "stream",
          "text": [
            "4 vezes 1 é igual a 5\n",
            "4 vezes 2 é igual a 9\n",
            "4 vezes 3 é igual a 13\n",
            "4 vezes 4 é igual a 17\n",
            "4 vezes 5 é igual a 21\n"
          ],
          "name": "stdout"
        },
        {
          "output_type": "execute_result",
          "data": {
            "text/plain": [
              "[1, 5, 9, 13, 17, 21]"
            ]
          },
          "metadata": {
            "tags": []
          },
          "execution_count": 13
        }
      ]
    },
    {
      "cell_type": "markdown",
      "metadata": {
        "id": "b-8fzaFDyNc2",
        "colab_type": "text"
      },
      "source": [
        ""
      ]
    },
    {
      "cell_type": "code",
      "metadata": {
        "id": "O7oqEia2ukVG",
        "colab_type": "code",
        "colab": {
          "base_uri": "https://localhost:8080/",
          "height": 119
        },
        "outputId": "064cdd3b-e45a-45e7-d675-2cd434bcd813"
      },
      "source": [
        "TM(4,5)"
      ],
      "execution_count": null,
      "outputs": [
        {
          "output_type": "stream",
          "text": [
            "4 vezes 1 é igual a 6\n",
            "4 vezes 2 é igual a 10\n",
            "4 vezes 3 é igual a 14\n",
            "4 vezes 4 é igual a 18\n",
            "4 vezes 5 é igual a 22\n"
          ],
          "name": "stdout"
        },
        {
          "output_type": "execute_result",
          "data": {
            "text/plain": [
              "[2, 6, 10, 14, 18, 22]"
            ]
          },
          "metadata": {
            "tags": []
          },
          "execution_count": 11
        }
      ]
    },
    {
      "cell_type": "code",
      "metadata": {
        "id": "UgSYfGrJuqhT",
        "colab_type": "code",
        "colab": {}
      },
      "source": [
        "import matplotlib.pyplot as plt"
      ],
      "execution_count": null,
      "outputs": []
    },
    {
      "cell_type": "code",
      "metadata": {
        "id": "WEjVdcng1Q_l",
        "colab_type": "code",
        "colab": {
          "base_uri": "https://localhost:8080/",
          "height": 704
        },
        "outputId": "ff7e710c-cb81-4255-9af9-bf90bd4a87e0"
      },
      "source": [
        "plt.plot(TabuadaMultiplicativa(3,25))\n",
        "plt.xlabel('a') # label em ingles é etiqueta, isso é como vamos chamar o eixo das abcissas\n",
        "plt.ylabel('3 x a') # isso é como vamos chamar o eixo das ordenadas\n",
        "plt.show()"
      ],
      "execution_count": null,
      "outputs": [
        {
          "output_type": "stream",
          "text": [
            "3 x 1 = 3\n",
            "3 x 2 = 6\n",
            "3 x 3 = 9\n",
            "3 x 4 = 12\n",
            "3 x 5 = 15\n",
            "3 x 6 = 18\n",
            "3 x 7 = 21\n",
            "3 x 8 = 24\n",
            "3 x 9 = 27\n",
            "3 x 10 = 30\n",
            "3 x 11 = 33\n",
            "3 x 12 = 36\n",
            "3 x 13 = 39\n",
            "3 x 14 = 42\n",
            "3 x 15 = 45\n",
            "3 x 16 = 48\n",
            "3 x 17 = 51\n",
            "3 x 18 = 54\n",
            "3 x 19 = 57\n",
            "3 x 20 = 60\n",
            "3 x 21 = 63\n",
            "3 x 22 = 66\n",
            "3 x 23 = 69\n",
            "3 x 24 = 72\n",
            "3 x 25 = 75\n"
          ],
          "name": "stdout"
        },
        {
          "output_type": "display_data",
          "data": {
            "image/png": "[encoded data removed]",
            "text/plain": [
              "<Figure size 432x288 with 1 Axes>"
            ]
          },
          "metadata": {
            "tags": [],
            "needs_background": "light"
          }
        }
      ]
    },
    {
      "cell_type": "code",
      "metadata": {
        "id": "gAJtCaXz1c5i",
        "colab_type": "code",
        "colab": {
          "base_uri": "https://localhost:8080/",
          "height": 704
        },
        "outputId": "310bb31a-651b-4eac-e2a4-013ce06705b2"
      },
      "source": [
        "plt.plot(TabuadaMultiplicativa(5,25))\n",
        "plt.xlabel('a') # label em ingles é etiqueta, isso é como vamos chamar o eixo das abcissas\n",
        "plt.ylabel('5 x a') # isso é como vamos chamar o eixo das ordenadas\n",
        "plt.show()"
      ],
      "execution_count": null,
      "outputs": [
        {
          "output_type": "stream",
          "text": [
            "5 x 1 = 5\n",
            "5 x 2 = 10\n",
            "5 x 3 = 15\n",
            "5 x 4 = 20\n",
            "5 x 5 = 25\n",
            "5 x 6 = 30\n",
            "5 x 7 = 35\n",
            "5 x 8 = 40\n",
            "5 x 9 = 45\n",
            "5 x 10 = 50\n",
            "5 x 11 = 55\n",
            "5 x 12 = 60\n",
            "5 x 13 = 65\n",
            "5 x 14 = 70\n",
            "5 x 15 = 75\n",
            "5 x 16 = 80\n",
            "5 x 17 = 85\n",
            "5 x 18 = 90\n",
            "5 x 19 = 95\n",
            "5 x 20 = 100\n",
            "5 x 21 = 105\n",
            "5 x 22 = 110\n",
            "5 x 23 = 115\n",
            "5 x 24 = 120\n",
            "5 x 25 = 125\n"
          ],
          "name": "stdout"
        },
        {
          "output_type": "display_data",
          "data": {
            "image/png": "[encoded data removed]",
            "text/plain": [
              "<Figure size 432x288 with 1 Axes>"
            ]
          },
          "metadata": {
            "tags": [],
            "needs_background": "light"
          }
        }
      ]
    },
    {
      "cell_type": "code",
      "metadata": {
        "id": "yTm9jkHG4EKv",
        "colab_type": "code",
        "colab": {
          "base_uri": "https://localhost:8080/",
          "height": 704
        },
        "outputId": "7403c34d-663d-4df3-a268-30623a792ac0"
      },
      "source": [
        "plt.plot(TabuadaMultiplicativa(9,25))\n",
        "plt.xlabel('a') # label em ingles é etiqueta, isso é como vamos chamar o eixo das abcissas\n",
        "plt.ylabel('9 x a') # isso é como vamos chamar o eixo das ordenadas\n",
        "plt.show()"
      ],
      "execution_count": null,
      "outputs": [
        {
          "output_type": "stream",
          "text": [
            "9 x 1 = 9\n",
            "9 x 2 = 18\n",
            "9 x 3 = 27\n",
            "9 x 4 = 36\n",
            "9 x 5 = 45\n",
            "9 x 6 = 54\n",
            "9 x 7 = 63\n",
            "9 x 8 = 72\n",
            "9 x 9 = 81\n",
            "9 x 10 = 90\n",
            "9 x 11 = 99\n",
            "9 x 12 = 108\n",
            "9 x 13 = 117\n",
            "9 x 14 = 126\n",
            "9 x 15 = 135\n",
            "9 x 16 = 144\n",
            "9 x 17 = 153\n",
            "9 x 18 = 162\n",
            "9 x 19 = 171\n",
            "9 x 20 = 180\n",
            "9 x 21 = 189\n",
            "9 x 22 = 198\n",
            "9 x 23 = 207\n",
            "9 x 24 = 216\n",
            "9 x 25 = 225\n"
          ],
          "name": "stdout"
        },
        {
          "output_type": "display_data",
          "data": {
            "image/png": "[encoded data removed]",
            "text/plain": [
              "<Figure size 432x288 with 1 Axes>"
            ]
          },
          "metadata": {
            "tags": [],
            "needs_background": "light"
          }
        }
      ]
    },
    {
      "cell_type": "code",
      "metadata": {
        "id": "jlEcfJNA4Obi",
        "colab_type": "code",
        "colab": {
          "base_uri": "https://localhost:8080/",
          "height": 704
        },
        "outputId": "ea61f1a2-e5c3-4278-9edd-25b916d11f6d"
      },
      "source": [
        "plt.plot(TabuadaMultiplicativa(-4,25))\n",
        "plt.xlabel('a') # label em ingles é etiqueta, isso é como vamos chamar o eixo das abcissas\n",
        "plt.ylabel('-4 x a') # isso é como vamos chamar o eixo das ordenadas\n",
        "plt.show()"
      ],
      "execution_count": null,
      "outputs": [
        {
          "output_type": "stream",
          "text": [
            "-4 x 1 = -4\n",
            "-4 x 2 = -8\n",
            "-4 x 3 = -12\n",
            "-4 x 4 = -16\n",
            "-4 x 5 = -20\n",
            "-4 x 6 = -24\n",
            "-4 x 7 = -28\n",
            "-4 x 8 = -32\n",
            "-4 x 9 = -36\n",
            "-4 x 10 = -40\n",
            "-4 x 11 = -44\n",
            "-4 x 12 = -48\n",
            "-4 x 13 = -52\n",
            "-4 x 14 = -56\n",
            "-4 x 15 = -60\n",
            "-4 x 16 = -64\n",
            "-4 x 17 = -68\n",
            "-4 x 18 = -72\n",
            "-4 x 19 = -76\n",
            "-4 x 20 = -80\n",
            "-4 x 21 = -84\n",
            "-4 x 22 = -88\n",
            "-4 x 23 = -92\n",
            "-4 x 24 = -96\n",
            "-4 x 25 = -100\n"
          ],
          "name": "stdout"
        },
        {
          "output_type": "display_data",
          "data": {
            "image/png": "[encoded data removed]",
            "text/plain": [
              "<Figure size 432x288 with 1 Axes>"
            ]
          },
          "metadata": {
            "tags": [],
            "needs_background": "light"
          }
        }
      ]
    },
    {
      "cell_type": "code",
      "metadata": {
        "id": "SUGIAkRY67bs",
        "colab_type": "code",
        "colab": {
          "base_uri": "https://localhost:8080/",
          "height": 415
        },
        "outputId": "0de87a75-ebb8-4bdf-cbe1-b3e96af45120"
      },
      "source": [
        "plt.plot(TabuadaExponencial(3,8))\n",
        "plt.xlabel('y')\n",
        "plt.ylabel('3^y')\n",
        "plt.show()"
      ],
      "execution_count": null,
      "outputs": [
        {
          "output_type": "stream",
          "text": [
            "3 elevado a 1 é igual a 3\n",
            "3 elevado a 2 é igual a 9\n",
            "3 elevado a 3 é igual a 27\n",
            "3 elevado a 4 é igual a 81\n",
            "3 elevado a 5 é igual a 243\n",
            "3 elevado a 6 é igual a 729\n",
            "3 elevado a 7 é igual a 2187\n",
            "3 elevado a 8 é igual a 6561\n"
          ],
          "name": "stdout"
        },
        {
          "output_type": "display_data",
          "data": {
            "image/png": "[encoded data removed]",
            "text/plain": [
              "<Figure size 432x288 with 1 Axes>"
            ]
          },
          "metadata": {
            "tags": [],
            "needs_background": "light"
          }
        }
      ]
    },
    {
      "cell_type": "code",
      "metadata": {
        "id": "R9Mhn4DH7fSv",
        "colab_type": "code",
        "colab": {
          "base_uri": "https://localhost:8080/",
          "height": 415
        },
        "outputId": "135af332-a5d9-4c6c-d037-2b090e41c22f"
      },
      "source": [
        "plt.plot(TabuadaExponencial(-3,8))\n",
        "plt.xlabel('y')\n",
        "plt.ylabel('3^y')\n",
        "plt.show()"
      ],
      "execution_count": null,
      "outputs": [
        {
          "output_type": "stream",
          "text": [
            "-3 elevado a 1 é igual a -3\n",
            "-3 elevado a 2 é igual a 9\n",
            "-3 elevado a 3 é igual a -27\n",
            "-3 elevado a 4 é igual a 81\n",
            "-3 elevado a 5 é igual a -243\n",
            "-3 elevado a 6 é igual a 729\n",
            "-3 elevado a 7 é igual a -2187\n",
            "-3 elevado a 8 é igual a 6561\n"
          ],
          "name": "stdout"
        },
        {
          "output_type": "display_data",
          "data": {
            "image/png": "[encoded data removed]",
            "text/plain": [
              "<Figure size 432x288 with 1 Axes>"
            ]
          },
          "metadata": {
            "tags": [],
            "needs_background": "light"
          }
        }
      ]
    },
    {
      "cell_type": "code",
      "metadata": {
        "id": "qLMz0uJU71Kj",
        "colab_type": "code",
        "colab": {
          "base_uri": "https://localhost:8080/",
          "height": 449
        },
        "outputId": "a46aa16a-4d59-450f-e14a-f4eb873d5c2e"
      },
      "source": [
        "plt.plot(TabuadaExponencial(-3,10))\n",
        "plt.xlabel('y')\n",
        "plt.ylabel('3^y')\n",
        "plt.show()"
      ],
      "execution_count": null,
      "outputs": [
        {
          "output_type": "stream",
          "text": [
            "-3 elevado a 1 é igual a -3\n",
            "-3 elevado a 2 é igual a 9\n",
            "-3 elevado a 3 é igual a -27\n",
            "-3 elevado a 4 é igual a 81\n",
            "-3 elevado a 5 é igual a -243\n",
            "-3 elevado a 6 é igual a 729\n",
            "-3 elevado a 7 é igual a -2187\n",
            "-3 elevado a 8 é igual a 6561\n",
            "-3 elevado a 9 é igual a -19683\n",
            "-3 elevado a 10 é igual a 59049\n"
          ],
          "name": "stdout"
        },
        {
          "output_type": "display_data",
          "data": {
            "image/png": "[encoded data removed]",
            "text/plain": [
              "<Figure size 432x288 with 1 Axes>"
            ]
          },
          "metadata": {
            "tags": [],
            "needs_background": "light"
          }
        }
      ]
    },
    {
      "cell_type": "code",
      "metadata": {
        "id": "KUeZ81gg8Dbw",
        "colab_type": "code",
        "colab": {}
      },
      "source": [
        "def desenhar_triangulo(tamanho):\n",
        "  for i in range(0,tamanho+1):\n",
        "    for j in range(0,i):\n",
        "      print('*')\n",
        "    print('\\n')\n",
        "  return"
      ],
      "execution_count": null,
      "outputs": []
    },
    {
      "cell_type": "code",
      "metadata": {
        "id": "LwfNUFwN9O6O",
        "colab_type": "code",
        "colab": {
          "base_uri": "https://localhost:8080/",
          "height": 357
        },
        "outputId": "ceffda24-71e6-4d4d-d922-bc279d487d13"
      },
      "source": [
        "desenhar_triangulo(4)"
      ],
      "execution_count": null,
      "outputs": [
        {
          "output_type": "stream",
          "text": [
            "\n",
            "\n",
            "*\n",
            "\n",
            "\n",
            "*\n",
            "*\n",
            "\n",
            "\n",
            "*\n",
            "*\n",
            "*\n",
            "\n",
            "\n",
            "*\n",
            "*\n",
            "*\n",
            "*\n",
            "\n",
            "\n"
          ],
          "name": "stdout"
        }
      ]
    },
    {
      "cell_type": "code",
      "metadata": {
        "id": "uf2owGHw9S54",
        "colab_type": "code",
        "colab": {}
      },
      "source": [
        "def desenhar_triangulo_com_asteristicos(tamanho):\n",
        "  #loop com índice i variando entre 0 e tamanho\n",
        "  for i in range(0,tamanho+1):\n",
        "    #loop com índice j variando entre 0 e i\n",
        "    for j in range(0,i+1):\n",
        "      #imprime asterístico\n",
        "      print('*', end='')\n",
        "    # pula linha  \n",
        "    print('\\n')\n",
        "  return"
      ],
      "execution_count": null,
      "outputs": []
    },
    {
      "cell_type": "markdown",
      "metadata": {
        "id": "Ai1YpYEj-F6p",
        "colab_type": "text"
      },
      "source": [
        "#Desafio!\n",
        "\n",
        "Escreva a função para desenhar quadrado com asterísticos"
      ]
    },
    {
      "cell_type": "code",
      "metadata": {
        "id": "sjM8_TF29soY",
        "colab_type": "code",
        "colab": {}
      },
      "source": [
        "def desenhar_quadrado_com_asteristicos(tamanho):\n",
        "  for i in range(0,tamanho):\n",
        "   for j in range(0,i):\n",
        "      print('*', end='')\n",
        "   print('\\n')\n",
        "  return "
      ],
      "execution_count": null,
      "outputs": []
    },
    {
      "cell_type": "markdown",
      "metadata": {
        "id": "0hNAdNjOCeYM",
        "colab_type": "text"
      },
      "source": [
        "documentação python\n",
        "\n",
        "https://docs.python.org/3/library/functions.html "
      ]
    },
    {
      "cell_type": "code",
      "metadata": {
        "id": "fILYQS7f7K1P",
        "colab_type": "code",
        "colab": {}
      },
      "source": [
        "def desenhar_quadrado_com_asteristicos(tamanho):\n",
        "  for i in range(0,tamanho):\n",
        "    for j in range(0,i):\n",
        "      print('*', end='')\n",
        "    print('\\n')\n",
        "  return"
      ],
      "execution_count": null,
      "outputs": []
    },
    {
      "cell_type": "code",
      "metadata": {
        "id": "PxDs6_pQYKcg",
        "colab_type": "code",
        "colab": {
          "base_uri": "https://localhost:8080/",
          "height": 153
        },
        "outputId": "0b8288af-737a-4af2-f232-4d6f511483e6"
      },
      "source": [
        "# para i em conjunto dos números \n",
        "for j in range(0,8):\n",
        "  print(i)"
      ],
      "execution_count": null,
      "outputs": [
        {
          "output_type": "stream",
          "text": [
            "4\n",
            "4\n",
            "4\n",
            "4\n",
            "4\n",
            "4\n",
            "4\n",
            "4\n"
          ],
          "name": "stdout"
        }
      ]
    },
    {
      "cell_type": "code",
      "metadata": {
        "id": "SHS3BXaLCU6t",
        "colab_type": "code",
        "colab": {
          "base_uri": "https://localhost:8080/",
          "height": 102
        },
        "outputId": "ed0ab53d-b6c9-49c3-811f-9956cee28285"
      },
      "source": [
        "for i in range(0,5):\n",
        "  print(j)"
      ],
      "execution_count": null,
      "outputs": [
        {
          "output_type": "stream",
          "text": [
            "7\n",
            "7\n",
            "7\n",
            "7\n",
            "7\n"
          ],
          "name": "stdout"
        }
      ]
    },
    {
      "cell_type": "code",
      "metadata": {
        "id": "QkBdNdqtDNf-",
        "colab_type": "code",
        "colab": {}
      },
      "source": [
        ""
      ],
      "execution_count": null,
      "outputs": []
    },
    {
      "cell_type": "markdown",
      "metadata": {
        "id": "felX4bpVV4FN",
        "colab_type": "text"
      },
      "source": [
        "#Dever de Casa! \n",
        "\n",
        "uma função que escreve um asterístico e pule uma linha N vezes"
      ]
    },
    {
      "cell_type": "code",
      "metadata": {
        "id": "VMbBWSotV3l_",
        "colab_type": "code",
        "colab": {}
      },
      "source": [
        "def asteritico_e_pule_linha(N):\n",
        "  for i in range(0,tamanho):\n",
        "      print('*', end='')\n",
        "      print('\\n')\n",
        "  return"
      ],
      "execution_count": null,
      "outputs": []
    },
    {
      "cell_type": "code",
      "metadata": {
        "id": "C42_4xQRm0Qq",
        "colab_type": "code",
        "colab": {
          "base_uri": "https://localhost:8080/",
          "height": 255
        },
        "outputId": "b6c41687-74f7-422f-b128-2679233f5596"
      },
      "source": [
        "asteritico_e_pule_linha(7)"
      ],
      "execution_count": null,
      "outputs": [
        {
          "output_type": "stream",
          "text": [
            "*\n",
            "\n",
            "*\n",
            "\n",
            "*\n",
            "\n",
            "*\n",
            "\n",
            "*\n",
            "\n",
            "*\n",
            "\n",
            "*\n",
            "\n"
          ],
          "name": "stdout"
        }
      ]
    },
    {
      "cell_type": "code",
      "metadata": {
        "id": "1J7dtXXBDnbj",
        "colab_type": "code",
        "colab": {}
      },
      "source": [
        "def asteritico_e_pule_linha2(N):\n",
        "  for i in range(0,tamanho):\n",
        "      print('*', end='')\n",
        "  print('\\n')\n",
        "  return"
      ],
      "execution_count": null,
      "outputs": []
    },
    {
      "cell_type": "code",
      "metadata": {
        "id": "TSKy9587D2l2",
        "colab_type": "code",
        "colab": {
          "base_uri": "https://localhost:8080/",
          "height": 51
        },
        "outputId": "46cd58e7-1915-401e-db71-46bbaeb7e23d"
      },
      "source": [
        ""
      ],
      "execution_count": null,
      "outputs": [
        {
          "output_type": "stream",
          "text": [
            "*******\n",
            "\n"
          ],
          "name": "stdout"
        }
      ]
    },
    {
      "cell_type": "code",
      "metadata": {
        "id": "9BeojngQFcFE",
        "colab_type": "code",
        "colab": {}
      },
      "source": [
        ""
      ],
      "execution_count": null,
      "outputs": []
    },
    {
      "cell_type": "code",
      "metadata": {
        "id": "d05RsaNJe0X7",
        "colab_type": "code",
        "colab": {}
      },
      "source": [
        ""
      ],
      "execution_count": null,
      "outputs": []
    },
    {
      "cell_type": "markdown",
      "metadata": {
        "id": "9HzEJne4F--3",
        "colab_type": "text"
      },
      "source": [
        "#Dever de Casa: \n",
        "\n",
        "Responda a pergunta; qual a diferença entre as funções asteritico_e_pule_linha2 e asteritico_e_pule_linha ? explique seus diferentes outputs"
      ]
    },
    {
      "cell_type": "markdown",
      "metadata": {
        "id": "6tx9J-kCGPDG",
        "colab_type": "text"
      },
      "source": [
        ""
      ]
    },
    {
      "cell_type": "code",
      "metadata": {
        "id": "ztL4TnqCfDWW",
        "colab_type": "code",
        "colab": {}
      },
      "source": [
        ""
      ],
      "execution_count": null,
      "outputs": []
    },
    {
      "cell_type": "markdown",
      "metadata": {
        "id": "pqP57VLC1sUC",
        "colab_type": "text"
      },
      "source": [
        "1) Defina uma funçao que retorna o tamanho da lista!"
      ]
    },
    {
      "cell_type": "code",
      "metadata": {
        "id": "uAgRw41D141B",
        "colab_type": "code",
        "colab": {}
      },
      "source": [
        "def tamanho_lista(lista):\n",
        "\n",
        "    # seu codigo aqui\n",
        "\n",
        "  return # o que vem aqui?"
      ],
      "execution_count": null,
      "outputs": []
    },
    {
      "cell_type": "markdown",
      "metadata": {
        "id": "Rw33DeHxfGvS",
        "colab_type": "text"
      },
      "source": [
        "2) Defina uma funçao que imprime os strings dentro de uma lista  e retorna o tamanho da lista!"
      ]
    },
    {
      "cell_type": "code",
      "metadata": {
        "id": "eG4Y6yEYfKrN",
        "colab_type": "code",
        "colab": {}
      },
      "source": [
        "def imprimelista(lista):\n",
        "\n",
        "    # seu codigo aqui\n",
        "\n",
        "  return # o que vem aqui?\n"
      ],
      "execution_count": null,
      "outputs": []
    },
    {
      "cell_type": "markdown",
      "metadata": {
        "id": "AWDl--EIWTZt",
        "colab_type": "text"
      },
      "source": [
        "#Desafio!\n",
        "\n",
        "defina uma função que desenha um triângulo com asterísticos começando da base!\n"
      ]
    },
    {
      "cell_type": "code",
      "metadata": {
        "id": "fLIHn0tHWTJ3",
        "colab_type": "code",
        "colab": {}
      },
      "source": [
        "def desenhar_triangulo_com_asteristicos_B(tamanho):\n",
        "  #altere o código do triangulo original\n",
        "  for i in range(0,tamanho+1):\n",
        "    for j in range(0,i):\n",
        "      print('*', end='')\n",
        "    print('\\n')\n",
        "  return"
      ],
      "execution_count": null,
      "outputs": []
    },
    {
      "cell_type": "markdown",
      "metadata": {
        "id": "MOcDjSExTvwT",
        "colab_type": "text"
      },
      "source": [
        "#Desafio!  - SUPER HARD (MUITO DIFíCIL)\n",
        "\n",
        "Desenhe um LOSANGO \n"
      ]
    },
    {
      "cell_type": "code",
      "metadata": {
        "id": "XvQN-lgYT4fi",
        "colab_type": "code",
        "colab": {}
      },
      "source": [
        "def losango(tamanho):\n",
        "  for i in range(0,tamanho):\n",
        "    for j in range(0,i):\n",
        "      print('*', end='')\n",
        "    print('\\n')\n",
        "  return"
      ],
      "execution_count": null,
      "outputs": []
    },
    {
      "cell_type": "markdown",
      "metadata": {
        "id": "wM4VFHsWQzNZ",
        "colab_type": "text"
      },
      "source": [
        "#Exemplo mean_absolute_error (usado no tutorial do kaggle)\n",
        "\n"
      ]
    },
    {
      "cell_type": "code",
      "metadata": {
        "id": "v4JGEA73Qy9X",
        "colab_type": "code",
        "colab": {}
      },
      "source": [
        "def mean_absolute_error(val_predictions,val_y)\n",
        "\n",
        "    listaval_y = val_y.tolist()\n",
        "    media = 0\n",
        "\n",
        "    for i in range(0,len(val_predictions)):\n",
        "\n",
        "        erro = abs( val_predictions[i] - listaval_y[i]  )\n",
        "        media = media + erro\n",
        "\n",
        "    media = media/len(val_predictions)\n",
        "    \n",
        "    return media "
      ],
      "execution_count": null,
      "outputs": []
    },
    {
      "cell_type": "code",
      "metadata": {
        "id": "4WlPV4l1QyO2",
        "colab_type": "code",
        "colab": {}
      },
      "source": [
        ""
      ],
      "execution_count": null,
      "outputs": []
    },
    {
      "cell_type": "markdown",
      "metadata": {
        "id": "rIxj__93J1ea",
        "colab_type": "text"
      },
      "source": [
        "#FUNCAO LEN"
      ]
    },
    {
      "cell_type": "markdown",
      "metadata": {
        "id": "tXGD-iTWIYU4",
        "colab_type": "text"
      },
      "source": [
        "Função len -> dá o tamanho do vetor, ou lista\n",
        "\n",
        "length em inglês quer dizer comprimento, tamanho\n"
      ]
    },
    {
      "cell_type": "code",
      "metadata": {
        "id": "ArwD5daZV1Ww",
        "colab_type": "code",
        "colab": {
          "base_uri": "https://localhost:8080/",
          "height": 34
        },
        "outputId": "e69f760c-195f-4f1e-e3d1-01b4d47fcb4c"
      },
      "source": [
        "len(range(0,8))"
      ],
      "execution_count": null,
      "outputs": [
        {
          "output_type": "execute_result",
          "data": {
            "text/plain": [
              "8"
            ]
          },
          "metadata": {
            "tags": []
          },
          "execution_count": 16
        }
      ]
    },
    {
      "cell_type": "code",
      "metadata": {
        "id": "ZfXXBL7vJztz",
        "colab_type": "code",
        "colab": {
          "base_uri": "https://localhost:8080/",
          "height": 34
        },
        "outputId": "bc2cbd3e-627f-4aee-c072-6a7dd6b40ef7"
      },
      "source": [
        "len( [123,5990,123098059857] )"
      ],
      "execution_count": null,
      "outputs": [
        {
          "output_type": "execute_result",
          "data": {
            "text/plain": [
              "3"
            ]
          },
          "metadata": {
            "tags": []
          },
          "execution_count": 17
        }
      ]
    },
    {
      "cell_type": "code",
      "metadata": {
        "id": "6PYTCtFOJ6u9",
        "colab_type": "code",
        "colab": {
          "base_uri": "https://localhost:8080/",
          "height": 34
        },
        "outputId": "499ead12-618b-4f6f-a540-394bd0ce0253"
      },
      "source": [
        "len(['a',5990,123098059857, 'yoyo'])"
      ],
      "execution_count": null,
      "outputs": [
        {
          "output_type": "execute_result",
          "data": {
            "text/plain": [
              "4"
            ]
          },
          "metadata": {
            "tags": []
          },
          "execution_count": 18
        }
      ]
    },
    {
      "cell_type": "code",
      "metadata": {
        "id": "cB2iFJcLKCMv",
        "colab_type": "code",
        "colab": {}
      },
      "source": [
        ""
      ],
      "execution_count": null,
      "outputs": []
    },
    {
      "cell_type": "markdown",
      "metadata": {
        "id": "SFzCwtbDbKT3",
        "colab_type": "text"
      },
      "source": [
        "#FUNCAO PRINT\n",
        "\n",
        "\n",
        "%d seve para colocar valor de variavel numerica dentro do string que vc pretende imprimir!\n",
        "\n",
        "Outra forma de fazer,  a função str()  converte aquele numero em uma string. Some essa string às strings que formam a mensagem que vc quer imprimir!"
      ]
    },
    {
      "cell_type": "code",
      "metadata": {
        "id": "cwuSmy22bLv-",
        "colab_type": "code",
        "colab": {
          "base_uri": "https://localhost:8080/",
          "height": 34
        },
        "outputId": "9e745ba0-e94c-4031-856a-1571c407c68a"
      },
      "source": [
        "max_leaf_nodes = 234\n",
        "my_mae = 0\n",
        "\n",
        "print(\"Max leaf nodes: %d  \\t\\t Mean Absolute Error:  %d\" %(max_leaf_nodes, my_mae) )"
      ],
      "execution_count": null,
      "outputs": [
        {
          "output_type": "stream",
          "text": [
            "Max leaf nodes: 234  \t\t Mean Absolute Error:  0\n"
          ],
          "name": "stdout"
        }
      ]
    },
    {
      "cell_type": "code",
      "metadata": {
        "id": "KalDMf02bV6E",
        "colab_type": "code",
        "colab": {
          "base_uri": "https://localhost:8080/",
          "height": 34
        },
        "outputId": "02ff7dd0-ae1e-4ec3-ac1f-3ced074868b8"
      },
      "source": [
        "max_leaf_nodes = 234\n",
        "my_mae = 0\n",
        "\n",
        "print(\"Max leaf nodes: \" + str(max_leaf_nodes) + \"\\t\\t Mean Absolute Error:  \" + str(my_mae) )"
      ],
      "execution_count": null,
      "outputs": [
        {
          "output_type": "stream",
          "text": [
            "Max leaf nodes: 234\t\t Mean Absolute Error:  0\n"
          ],
          "name": "stdout"
        }
      ]
    },
    {
      "cell_type": "code",
      "metadata": {
        "id": "cDDPopAzb2_w",
        "colab_type": "code",
        "colab": {}
      },
      "source": [
        ""
      ],
      "execution_count": null,
      "outputs": []
    }
  ]
}