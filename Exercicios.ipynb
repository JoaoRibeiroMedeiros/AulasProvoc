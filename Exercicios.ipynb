{
  "nbformat": 4,
  "nbformat_minor": 0,
  "metadata": {
    "colab": {
      "name": "Exercicios",
      "provenance": [],
      "authorship_tag": "ABX9TyPNOQKFFhxlzWEilphLKtKk"
    },
    "kernelspec": {
      "name": "python3",
      "display_name": "Python 3"
    }
  },
  "cells": [
    {
      "cell_type": "code",
      "metadata": {
        "id": "BDIaKXhrO_vE",
        "colab_type": "code",
        "colab": {}
      },
      "source": [
        "def TabuadaExponencial(x,y):\n",
        "  fim = 1\n",
        "  tabuada = []\n",
        "  for i in range(1,y+1):\n",
        "    tabuada.append(fim) # inclui a variável 'fim' na lista 'tabuada'\n",
        "    fim = fim*x         # atualiza o valor da variável fim com o valor anteiror de fim multiplicado por x\n",
        "    print(str(x)+' elevado a ' + str(i) +' é igual a '+ str(fim) )   # imprime a string entre os parenteses\n",
        "  tabuada.append(fim)\n",
        "  return tabuada"
      ],
      "execution_count": null,
      "outputs": []
    },
    {
      "cell_type": "markdown",
      "metadata": {
        "id": "bPZEbBDBOw9t",
        "colab_type": "text"
      },
      "source": [
        "#Dever de Casa!\n",
        "\n",
        "\n",
        "defina a função TabuadaMultiplicativa, \n",
        "\n",
        "e gere a tabuada de multiplicação dos números 2, 5 e 9 e faça seus gráficos. \n",
        "\n",
        "qual diferença vc vê entre eles? qual é a explicação para essa diferença? \n"
      ]
    },
    {
      "cell_type": "code",
      "metadata": {
        "id": "FihFQ6WFOp91",
        "colab_type": "code",
        "colab": {}
      },
      "source": [
        "# altere esse código copiado da tabuada exponencial para representar a tabuada multiplicativa\n",
        "\n",
        "# vc tem que alterar somente duas linhas\n",
        "# fim = fim*x\n",
        "# print(str(x)+' elevado a ' + str(i) +' é igual a '+ str(fim) )\n",
        "\n",
        "# dica:\n",
        "# exemplo de exponenciação\n",
        "# 4^5 = 4*4*4*4*4\n",
        "# exemplo de multiplicação\n",
        "# 4*5 = 4 + 4 + 4 + 4 + 4\n",
        "\n",
        "def TabuadaMultiplicativa(x,y):\n",
        "  fim = 1\n",
        "  tabuada = []\n",
        "  for i in range(1,y+1):\n",
        "    tabuada.append(fim)\n",
        "    fim = fim+x\n",
        "    print(str(x)+' vezes ' + str(i) +' é igual a '+ str(fim) )\n",
        "  tabuada.append(fim)\n",
        "  return tabuada"
      ],
      "execution_count": null,
      "outputs": []
    },
    {
      "cell_type": "markdown",
      "metadata": {
        "id": "dVRPLerePCAt",
        "colab_type": "text"
      },
      "source": [
        "#Dever de Casa! \n",
        "\n",
        "uma função que escreve um asterístico e pule uma linha N vezes\n"
      ]
    },
    {
      "cell_type": "code",
      "metadata": {
        "id": "_Os1DzNdPGwP",
        "colab_type": "code",
        "colab": {}
      },
      "source": [
        "def asteritico_e_pule_linha(N):\n",
        "  for i in range(0,N):\n",
        "  # para i em range(0,N)\n",
        "      print('*', end='')\n",
        "      print('\\n')\n",
        "  return"
      ],
      "execution_count": null,
      "outputs": []
    },
    {
      "cell_type": "markdown",
      "metadata": {
        "id": "ls18oR2yPPl5",
        "colab_type": "text"
      },
      "source": [
        ""
      ]
    },
    {
      "cell_type": "markdown",
      "metadata": {
        "id": "DSiW8sQRPVU5",
        "colab_type": "text"
      },
      "source": [
        "#Dever de Casa: \n",
        "\n",
        "Responda a pergunta; qual a diferença entre as funções asteritico_e_pule_linha2 e asteritico_e_pule_linha ? explique seus diferentes outputs\n",
        "\n",
        "\n",
        "No primeiro caso há um espaço entre um loop e outro. No segundo caso há um loop abaixo da linha de asteriscos."
      ]
    },
    {
      "cell_type": "markdown",
      "metadata": {
        "id": "X0eefno7PgE0",
        "colab_type": "text"
      },
      "source": [
        "0) Obtenha o tamanho da lista abaixo usando a função len\n"
      ]
    },
    {
      "cell_type": "code",
      "metadata": {
        "id": "_gYxbWDBPVwQ",
        "colab_type": "code",
        "colab": {}
      },
      "source": [
        "lista=[1,2,23,3,3,1,12,2,3,13,1,2,31,3,1,31,3,13,13,13,13,13,3,3,3,4,4,1,1,1]"
      ],
      "execution_count": null,
      "outputs": []
    },
    {
      "cell_type": "code",
      "metadata": {
        "id": "nlTpVPDxWsn5",
        "colab_type": "code",
        "colab": {}
      },
      "source": [
        "len(lista)"
      ],
      "execution_count": null,
      "outputs": []
    },
    {
      "cell_type": "markdown",
      "metadata": {
        "id": "XXqfIl1FWxnc",
        "colab_type": "text"
      },
      "source": [
        "1) Defina uma funçao que retorna o tamanho da lista!"
      ]
    },
    {
      "cell_type": "code",
      "metadata": {
        "id": "C4wbF_tAWyfw",
        "colab_type": "code",
        "colab": {}
      },
      "source": [
        "def tamanho_lista(lista):\n",
        "  return len(lista)"
      ],
      "execution_count": null,
      "outputs": []
    },
    {
      "cell_type": "code",
      "metadata": {
        "id": "TXp3p8D6W1Zm",
        "colab_type": "code",
        "colab": {}
      },
      "source": [
        "tamanho_lista(['pedro','sara','antonio','roberto'])"
      ],
      "execution_count": null,
      "outputs": []
    },
    {
      "cell_type": "markdown",
      "metadata": {
        "id": "e4L6EgpvXDhX",
        "colab_type": "text"
      },
      "source": [
        "2) Defina uma funçao que imprime os strings dentro de uma lista  e retorna o tamanho da lista!"
      ]
    },
    {
      "cell_type": "code",
      "metadata": {
        "id": "hGThjxZmW_-1",
        "colab_type": "code",
        "colab": {}
      },
      "source": [
        "def imprimelista(lista):\n",
        "  for i in range(0,len(lista)):\n",
        "    print(lista[i])\n",
        "  \n",
        "  return len(lista)  "
      ],
      "execution_count": null,
      "outputs": []
    },
    {
      "cell_type": "markdown",
      "metadata": {
        "id": "qQbyqdy2XOAa",
        "colab_type": "text"
      },
      "source": [
        "#Dever de Casa\n",
        "\n",
        "###1) compare 7^x com x! (x fatorial)\n",
        "\n",
        "para quais valores de x vc observa $7^x > x$!\n",
        "\n",
        "para quais valores de x vc observa $7^x < x$!\n",
        "\n",
        "\n",
        "###2) crie uma função para fazer essa comparação (desafio)"
      ]
    },
    {
      "cell_type": "code",
      "metadata": {
        "id": "NLbHk1zLXOaz",
        "colab_type": "code",
        "colab": {}
      },
      "source": [
        "def teste(x): \n",
        "  print(7**x)\n",
        "  print(fatorial(x))\n",
        "  if 7**x > fatorial(x):\n",
        "    print(1)\n",
        "    return 1\n",
        "  elif 7**x == fatorial(x):\n",
        "    print(0)\n",
        "    return 0\n",
        "  elif 7**x < fatorial(x):\n",
        "    print(-1)\n",
        "    return -1"
      ],
      "execution_count": null,
      "outputs": []
    },
    {
      "cell_type": "markdown",
      "metadata": {
        "id": "8S5VhIxQXgYa",
        "colab_type": "text"
      },
      "source": [
        "#Dever de Casa\n",
        "\n",
        "Defina uma função que recebe como input a idade de alguém (variável numérica) e devolve como output a categoria etária na qual essa pessoa se enquadra. As categorias são\n",
        "\n",
        " - criança (de 0 a 13 anos) E\n",
        " - adolescente (de 13 a 19 anos) D\n",
        " - jovem (de 20 a 30 anos) C\n",
        " - adulto (de 30 a 50 anos) B\n",
        " - supremo (de 50 anos em diante) A"
      ]
    },
    {
      "cell_type": "markdown",
      "metadata": {
        "id": "zOh8bqkWXX8Y",
        "colab_type": "text"
      },
      "source": [
        "Seu output deve ser um string de uma única letra correspondente a categoria que a pessoa pertence:\n",
        "\n",
        "exemplo se o input é 25 \n",
        "o output deve ser 'C'"
      ]
    },
    {
      "cell_type": "code",
      "metadata": {
        "id": "F8VPQyrHXjke",
        "colab_type": "code",
        "colab": {}
      },
      "source": [
        "def CategoriaEtaria(x):\n",
        "  if 0<x<=13:  categoria = 'E'\n",
        "  elif 13<x<=19: categoria = 'D'\n",
        "  elif 19<x<=30: categoria = 'C'\n",
        "  elif 30<x<=50: categoria = 'B'\n",
        "  elif x>50 : categoria = 'A'\n",
        "  return categoria"
      ],
      "execution_count": null,
      "outputs": []
    },
    {
      "cell_type": "markdown",
      "metadata": {
        "id": "uublXZYSXphK",
        "colab_type": "text"
      },
      "source": [
        "1) compare $(x^2 + 130 x + 3)$ com $x!$ (x fatorial)\n",
        "para quais valores de x vc observa \n",
        "\n",
        " $(x^2 + 130 x + 3)>𝑥$ !\n",
        "\n",
        "para quais valores de x vc observa  \n",
        "\n",
        "$(x^2 + 130 x + 3)<𝑥$ !\n",
        "\n",
        "2) crie uma função para fazer essa comparação (desafio)"
      ]
    },
    {
      "cell_type": "code",
      "metadata": {
        "id": "H8HeX5doXp4u",
        "colab_type": "code",
        "colab": {}
      },
      "source": [
        "def comparacao(x):\n",
        "  if (x**2+130*x+3)>fatorial(x):\n",
        "    return 'maior'\n",
        "  elif (x**2+130*x+3)<fatorial(x):\n",
        "    return 'menor'\n",
        "  if (x**2+130*x+3)==fatorial(x):\n",
        "    return 'igual'"
      ],
      "execution_count": null,
      "outputs": []
    },
    {
      "cell_type": "markdown",
      "metadata": {
        "id": "LUsf8IfMX1Yj",
        "colab_type": "text"
      },
      "source": [
        "#Dever de casa\n",
        "\n",
        "1) Defina a função duplo fatorial \n",
        "\n",
        "pares:\n",
        "\n",
        "$ 8!! = 8*6*4*2 $\n",
        "\n",
        "impares:\n",
        "\n",
        "$13!! = 13*11*9*7*5*3*1$ \n",
        "\n",
        "2)  qual relação entre x e y garante\n",
        "\n",
        "x! < y !!\n"
      ]
    },
    {
      "cell_type": "code",
      "metadata": {
        "id": "jhrOpioUX1uc",
        "colab_type": "code",
        "colab": {}
      },
      "source": [
        "def duplofatorialpar(x):\n",
        "  output=1\n",
        "  for i in range(2,x+2,2):\n",
        "    output = output*i \n",
        "  return output\n",
        "  "
      ],
      "execution_count": null,
      "outputs": []
    },
    {
      "cell_type": "code",
      "metadata": {
        "id": "4_5s5TPGX86R",
        "colab_type": "code",
        "colab": {}
      },
      "source": [
        "def duplofatorialimpar(x):\n",
        "  output=1\n",
        "  for i in range(3,x+2,2):\n",
        "    output = output*i\n",
        "  return output  "
      ],
      "execution_count": null,
      "outputs": []
    },
    {
      "cell_type": "code",
      "metadata": {
        "id": "2gw9usQmYAxf",
        "colab_type": "code",
        "colab": {}
      },
      "source": [
        "def duplofatorial(x):\n",
        "  if x%2==0: return (duplofatorialpar(x))\n",
        "  else: return (duplofatorialimpar(x))"
      ],
      "execution_count": null,
      "outputs": []
    },
    {
      "cell_type": "markdown",
      "metadata": {
        "id": "TdNtVQ5SYF1Q",
        "colab_type": "text"
      },
      "source": [
        "#Dever de Casa\n",
        "\n",
        "##Séries!\n",
        "\n",
        "$x_n = \\frac{1}{2^n}$\n",
        "\n",
        "$x_0 = \\frac{1}{2^0} = 1$\n",
        "\n",
        "$x_1 = \\frac{1}{2^1} = \\frac{1}{2}$\n",
        "\n",
        "$x_2 = \\frac{1}{2^2} = \\frac{1}{4}$\n",
        "\n",
        "...\n",
        "\n",
        "$y_n = x_n + x_{n-1} + x_{n-2} + .... + x_0 = \\sum_0^n x_n$\n",
        "\n",
        "$y_0 = \\frac{1}{2^0} = 1$\n",
        "\n",
        "$y_1 = \\frac{1}{2^0} + \\frac{1}{2^1} = 1 + \\frac{1}{2}$\n",
        "\n",
        "$y_2 = \\frac{1}{2^0} + \\frac{1}{2^1} +\\frac{1}{2^2} = 1 +  \\frac{1}{2} + \\frac{1}{4}$\n",
        "\n",
        "....\n",
        "\n",
        "calcule o valor de $x_n$ e $y_n$ para vários $n$'s, qual valor essas sequências apresentam para n grande? Defina funções para obter os valores"
      ]
    },
    {
      "cell_type": "code",
      "metadata": {
        "id": "rwHr4zneYGOc",
        "colab_type": "code",
        "colab": {}
      },
      "source": [
        "def xn(n):\n",
        "  return 1/2**n"
      ],
      "execution_count": null,
      "outputs": []
    },
    {
      "cell_type": "code",
      "metadata": {
        "id": "Yi5UeL_BZq1C",
        "colab_type": "code",
        "colab": {}
      },
      "source": [
        "def yn(n):\n",
        "  fim = 0\n",
        "  for i in range(0,n+1):\n",
        "    fim = fim + xn(i)\n",
        "  return fim"
      ],
      "execution_count": null,
      "outputs": []
    },
    {
      "cell_type": "markdown",
      "metadata": {
        "id": "FBWVgl9tZvbQ",
        "colab_type": "text"
      },
      "source": [
        "#Dever de Casa\n",
        "\n",
        "##Séries!\n",
        "\n",
        "$w_n = \\frac{1}{3^n}$\n",
        "\n",
        "$w_0 = \\frac{1}{3^0} = 1$\n",
        "\n",
        "$w_1 = \\frac{1}{3^1} = \\frac{1}{3}$\n",
        "\n",
        "$w_2 = \\frac{1}{3^2} = \\frac{1}{9}$\n",
        "\n",
        "...\n",
        "\n",
        "$z_n = w_n + w_{n-1} + w_{n-2} + .... + w_0 = \\sum_0^n w_n$\n",
        "\n",
        "$z_0 = \\frac{1}{3^0} = 1$\n",
        "\n",
        "$z_1 = \\frac{1}{3^0} + \\frac{1}{3^1} = 1 + \\frac{1}{3}$\n",
        "\n",
        "$z_2 = \\frac{1}{3^0} + \\frac{1}{3^1} +\\frac{1}{3^2} = 1 +  \\frac{1}{3} + \\frac{1}{9}$\n",
        "\n",
        "....\n",
        "\n",
        "calcule o valor de $w_n$ e $z_n$ para vários $n$'s, qual valor essas sequências apresentam para n grande? Defina funções para obter os valores"
      ]
    },
    {
      "cell_type": "code",
      "metadata": {
        "id": "Qn2nVqROZv2g",
        "colab_type": "code",
        "colab": {}
      },
      "source": [
        "def wn(n):\n",
        "  return 1/3**n"
      ],
      "execution_count": null,
      "outputs": []
    },
    {
      "cell_type": "code",
      "metadata": {
        "id": "xmC5ojb6Z1tE",
        "colab_type": "code",
        "colab": {}
      },
      "source": [
        "def zn(n):\n",
        "  fim = 0\n",
        "  for i in range(0,n+1):\n",
        "    fim = fim + wn(i)\n",
        "  return fim"
      ],
      "execution_count": null,
      "outputs": []
    },
    {
      "cell_type": "markdown",
      "metadata": {
        "id": "K5UO-tvFZ7FZ",
        "colab_type": "text"
      },
      "source": [
        "#Dever de Casa\n",
        "\n",
        "##Produtório!\n",
        "\n",
        "$w_n = \\frac{1}{3^n}$\n",
        "\n",
        "$w_0 = \\frac{1}{3^0} = 1$\n",
        "\n",
        "$w_1 = \\frac{1}{3^1} = \\frac{1}{3}$\n",
        "\n",
        "$w_2 = \\frac{1}{3^2} = \\frac{1}{9}$\n",
        "\n",
        "...\n",
        "\n",
        "$z_n = w_n * w_{n-1} * w_{n-2} * .... * w_0 = \\prod_0^n w_n$\n",
        "\n",
        "$z_0 = \\frac{1}{3^0} = 1$\n",
        "\n",
        "$z_1 = \\frac{1}{3^0} * \\frac{1}{3^1} = 1 * \\frac{1}{3}$\n",
        "\n",
        "$z_2 = \\frac{1}{3^0} * \\frac{1}{3^1} *\\frac{1}{3^2} = 1 *  \\frac{1}{3} * \\frac{1}{9}$\n",
        "\n",
        "....\n",
        "\n",
        "calcule o valor de $w_n$ e $z_n$ para vários $n$'s, qual valor essas sequências apresentam para n grande? Defina funções para obter os valores"
      ]
    },
    {
      "cell_type": "code",
      "metadata": {
        "id": "XEvkRL9gZ7bR",
        "colab_type": "code",
        "colab": {}
      },
      "source": [
        "def zn(n):\n",
        "  fim = 1\n",
        "  for i in range(0,n+1):\n",
        "    fim = fim*wn(i)\n",
        "  return fim"
      ],
      "execution_count": null,
      "outputs": []
    },
    {
      "cell_type": "markdown",
      "metadata": {
        "id": "lGl5WnhdaTEo",
        "colab_type": "text"
      },
      "source": [
        "#Desafio!\n",
        "\n",
        "Escreva funções para desenhar figuras com asterísticos"
      ]
    },
    {
      "cell_type": "code",
      "metadata": {
        "id": "D6-238X3aXOt",
        "colab_type": "code",
        "colab": {}
      },
      "source": [
        "def desenhar_quadrado_com_asteristicos(tamanho):\n",
        "  for i in range(0,tamanho):\n",
        "   for j in range(0,tamanho):\n",
        "      print(' * ', end='')\n",
        "   print('\\n')\n",
        "  return "
      ],
      "execution_count": null,
      "outputs": []
    },
    {
      "cell_type": "code",
      "metadata": {
        "id": "JV3RKICMaYiU",
        "colab_type": "code",
        "colab": {}
      },
      "source": [
        "def desenhar_triangulo_com_asteristicos(tamanho):\n",
        "  for i in range(0,tamanho):\n",
        "   for j in range(0,i):\n",
        "      print(' * ', end='')\n",
        "   print('\\n')\n",
        "  return "
      ],
      "execution_count": null,
      "outputs": []
    },
    {
      "cell_type": "markdown",
      "metadata": {
        "id": "fc3mxFBlcE4_",
        "colab_type": "text"
      },
      "source": [
        "#Desafio!\n",
        "\n",
        "defina uma função que desenha um triângulo com asterísticos começando da base!"
      ]
    },
    {
      "cell_type": "markdown",
      "metadata": {
        "id": "KXrVK3JRaEEI",
        "colab_type": "text"
      },
      "source": [
        "#Dever de Casa\n",
        "\n",
        "##Produtório!\n",
        "\n",
        "$a_n = \\frac{n-10}{n}$\n",
        "\n",
        "$a_1 = \\frac{1-10}{1} =-9$\n",
        "\n",
        "$a_2 = \\frac{2-10}{2} = -4$\n",
        "\n",
        "$a_3 = \\frac{3-10}{3} = -\\frac{7}{3}$\n",
        "\n",
        "...\n",
        "\n",
        "$b_n = a_n * a_{n-1} * a_{n-2} * .... * a_1 = \\prod_1^n a_n$\n",
        "\n",
        "\n",
        "....\n",
        "\n",
        "calcule o valor de $a_n$ e $b_n$ para vários $n$'s, qual valor essas sequências apresentam para n grande? Defina funções para obter os valores"
      ]
    },
    {
      "cell_type": "code",
      "metadata": {
        "id": "4v7KVtoKaEhT",
        "colab_type": "code",
        "colab": {}
      },
      "source": [
        ""
      ],
      "execution_count": null,
      "outputs": []
    }
  ]
}