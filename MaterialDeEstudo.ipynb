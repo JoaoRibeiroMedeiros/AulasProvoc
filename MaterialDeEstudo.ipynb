{
  "nbformat": 4,
  "nbformat_minor": 0,
  "metadata": {
    "colab": {
      "name": "MaterialDeEstudo.ipynb",
      "provenance": [],
      "authorship_tag": "ABX9TyP3hiHQjlMpYfxrxeNQEyjT"
    },
    "kernelspec": {
      "name": "python3",
      "display_name": "Python 3"
    }
  },
  "cells": [
    {
      "cell_type": "markdown",
      "metadata": {
        "id": "VNaI7krpxqBm",
        "colab_type": "text"
      },
      "source": [
        "#Importando Bibliotecas!"
      ]
    },
    {
      "cell_type": "code",
      "metadata": {
        "id": "z6xtMI-Bw8QX",
        "colab_type": "code",
        "colab": {}
      },
      "source": [
        "import pandas as pd\n",
        "import numpy as np\n",
        "import math as m"
      ],
      "execution_count": 1,
      "outputs": []
    },
    {
      "cell_type": "markdown",
      "metadata": {
        "id": "gJkX3RsM8SwK",
        "colab_type": "text"
      },
      "source": [
        "#Variáveis Numéricas"
      ]
    },
    {
      "cell_type": "code",
      "metadata": {
        "id": "1uwBnk9Z5WIr",
        "colab_type": "code",
        "colab": {}
      },
      "source": [
        "x = 1"
      ],
      "execution_count": null,
      "outputs": []
    },
    {
      "cell_type": "code",
      "metadata": {
        "id": "YVZLTVnM5Wpf",
        "colab_type": "code",
        "colab": {}
      },
      "source": [
        "y = 5"
      ],
      "execution_count": null,
      "outputs": []
    },
    {
      "cell_type": "code",
      "metadata": {
        "id": "h3pvF9Bv5XBF",
        "colab_type": "code",
        "colab": {
          "base_uri": "https://localhost:8080/",
          "height": 34
        },
        "outputId": "982c3bc4-a432-4d3a-ad5f-a2b0733e7d45"
      },
      "source": [
        "x + y"
      ],
      "execution_count": null,
      "outputs": [
        {
          "output_type": "execute_result",
          "data": {
            "text/plain": [
              "6"
            ]
          },
          "metadata": {
            "tags": []
          },
          "execution_count": 4
        }
      ]
    },
    {
      "cell_type": "markdown",
      "metadata": {
        "id": "HFih3-Hw6ndm",
        "colab_type": "text"
      },
      "source": [
        "#Strings! (Variáveis Categóricas)"
      ]
    },
    {
      "cell_type": "code",
      "metadata": {
        "id": "XzO-it7H7ePw",
        "colab_type": "code",
        "colab": {}
      },
      "source": [
        "nome = 'Pedro'"
      ],
      "execution_count": null,
      "outputs": []
    },
    {
      "cell_type": "code",
      "metadata": {
        "id": "bKvQq2dE7ewc",
        "colab_type": "code",
        "colab": {}
      },
      "source": [
        "sobrenome = 'Gomes'"
      ],
      "execution_count": null,
      "outputs": []
    },
    {
      "cell_type": "code",
      "metadata": {
        "id": "ZKmPs9E97fTa",
        "colab_type": "code",
        "colab": {
          "base_uri": "https://localhost:8080/",
          "height": 34
        },
        "outputId": "da7876c2-fc39-47de-ca24-1e74d718be2f"
      },
      "source": [
        "nome+sobrenome"
      ],
      "execution_count": null,
      "outputs": [
        {
          "output_type": "execute_result",
          "data": {
            "text/plain": [
              "'PedroGomes'"
            ]
          },
          "metadata": {
            "tags": []
          },
          "execution_count": 9
        }
      ]
    },
    {
      "cell_type": "code",
      "metadata": {
        "id": "8CF02EhA7ocS",
        "colab_type": "code",
        "colab": {
          "base_uri": "https://localhost:8080/",
          "height": 34
        },
        "outputId": "4abcc62d-865f-430c-ca6f-3ff32d8fd2c8"
      },
      "source": [
        "nome+' '+ sobrenome"
      ],
      "execution_count": null,
      "outputs": [
        {
          "output_type": "execute_result",
          "data": {
            "text/plain": [
              "'Pedro Gomes'"
            ]
          },
          "metadata": {
            "tags": []
          },
          "execution_count": 11
        }
      ]
    },
    {
      "cell_type": "markdown",
      "metadata": {
        "id": "zNpZd5Xo8pHi",
        "colab_type": "text"
      },
      "source": [
        "#Definindo Funções"
      ]
    },
    {
      "cell_type": "markdown",
      "metadata": {
        "id": "T37lk7zP5fOK",
        "colab_type": "text"
      },
      "source": [
        "Função é diferente de variável, função é uma operação sobre variáveis. \n",
        "\n",
        "\n",
        "Função tem input e output, \n",
        "\n",
        "Parênteses na linha do def indicam o input que a função recebe (pode ser mais que um input)\n",
        "\n",
        "A linha do return indica o output (pode ser mais que um output), o que a função devolve pra vc.\n",
        "\n",
        "\n",
        "Exemplo na matemática, função linear\n",
        "\n",
        "$ f(x) = a x + b$\n",
        "\n",
        "input é o $x$, output é $ax + b$\n",
        "\n",
        "função quadrática\n",
        "\n",
        "$f(x) = a x^2 + b x + c $\n",
        "\n",
        "função exponencial\n",
        "\n",
        "$f(x) = K e^x = K (1 +x + \\frac{x^2}{2!}+\\frac{x^3}{3!} +\\frac{x^4}{4!} +\\frac{x^5}{5!}+  ...)  $\n",
        "\n",
        "\n",
        "\n",
        "função multivariada mais de um input! \n",
        "\n",
        "$f(x,y) = x + y $"
      ]
    },
    {
      "cell_type": "code",
      "metadata": {
        "id": "UJP4R3ZB8Et1",
        "colab_type": "code",
        "colab": {}
      },
      "source": [
        "def soma(x,y):\n",
        "  return x+y"
      ],
      "execution_count": null,
      "outputs": []
    },
    {
      "cell_type": "code",
      "metadata": {
        "id": "8mlT1KDb8PGe",
        "colab_type": "code",
        "colab": {
          "base_uri": "https://localhost:8080/",
          "height": 34
        },
        "outputId": "a23b752f-264f-4ea9-875b-1e91afd34d24"
      },
      "source": [
        "soma(100,23)"
      ],
      "execution_count": null,
      "outputs": [
        {
          "output_type": "execute_result",
          "data": {
            "text/plain": [
              "123"
            ]
          },
          "metadata": {
            "tags": []
          },
          "execution_count": 14
        }
      ]
    },
    {
      "cell_type": "code",
      "metadata": {
        "id": "uUbUoIIq8PsA",
        "colab_type": "code",
        "colab": {
          "base_uri": "https://localhost:8080/",
          "height": 34
        },
        "outputId": "68857225-73f3-4b88-ebf4-37ff4d309be9"
      },
      "source": [
        "soma(1000,789)"
      ],
      "execution_count": null,
      "outputs": [
        {
          "output_type": "execute_result",
          "data": {
            "text/plain": [
              "1789"
            ]
          },
          "metadata": {
            "tags": []
          },
          "execution_count": 15
        }
      ]
    },
    {
      "cell_type": "code",
      "metadata": {
        "id": "gGyY-WbW8-VQ",
        "colab_type": "code",
        "colab": {
          "base_uri": "https://localhost:8080/",
          "height": 34
        },
        "outputId": "71c4e749-4596-46fd-94d3-885fed1d6500"
      },
      "source": [
        "soma(1111,1111)"
      ],
      "execution_count": null,
      "outputs": [
        {
          "output_type": "execute_result",
          "data": {
            "text/plain": [
              "2222"
            ]
          },
          "metadata": {
            "tags": []
          },
          "execution_count": 16
        }
      ]
    },
    {
      "cell_type": "code",
      "metadata": {
        "id": "zAZEzOxe9BCW",
        "colab_type": "code",
        "colab": {}
      },
      "source": [
        "def NomeInteiro(x,y):\n",
        "  return x + ' ' + y"
      ],
      "execution_count": null,
      "outputs": []
    },
    {
      "cell_type": "markdown",
      "metadata": {
        "id": "Q6wiKjfF9nUg",
        "colab_type": "text"
      },
      "source": [
        "#Variáveis locais \n",
        "são as que existem no interior de uma função!\n",
        "\n",
        "#Variáveis Globais \n",
        "são as que estão definidos no ambiente de programação\n",
        "\n",
        "\n"
      ]
    },
    {
      "cell_type": "code",
      "metadata": {
        "id": "JzWryVsd9LGT",
        "colab_type": "code",
        "colab": {
          "base_uri": "https://localhost:8080/",
          "height": 34
        },
        "outputId": "085e5e21-4c51-48e2-a92a-1586c0da9b0d"
      },
      "source": [
        "NomeInteiro('Pedro','Gomes')"
      ],
      "execution_count": null,
      "outputs": [
        {
          "output_type": "execute_result",
          "data": {
            "text/plain": [
              "'Pedro Gomes'"
            ]
          },
          "metadata": {
            "tags": []
          },
          "execution_count": 20
        }
      ]
    },
    {
      "cell_type": "code",
      "metadata": {
        "id": "LH-tf5Dv9TQG",
        "colab_type": "code",
        "colab": {}
      },
      "source": [
        "def diferenca(a,b):\n",
        "  return a-b"
      ],
      "execution_count": null,
      "outputs": []
    },
    {
      "cell_type": "code",
      "metadata": {
        "id": "44YC691U-_wN",
        "colab_type": "code",
        "colab": {
          "base_uri": "https://localhost:8080/",
          "height": 34
        },
        "outputId": "2d22ba3f-13b1-485b-90f1-8460e27e73c0"
      },
      "source": [
        "diferenca(45,8)"
      ],
      "execution_count": null,
      "outputs": [
        {
          "output_type": "execute_result",
          "data": {
            "text/plain": [
              "37"
            ]
          },
          "metadata": {
            "tags": []
          },
          "execution_count": 2
        }
      ]
    },
    {
      "cell_type": "markdown",
      "metadata": {
        "id": "9ls3mx-5BUfk",
        "colab_type": "text"
      },
      "source": [
        "#Loops !"
      ]
    },
    {
      "cell_type": "markdown",
      "metadata": {
        "id": "T4GiBM-o5rTx",
        "colab_type": "text"
      },
      "source": [
        "Iteração -> etapa de um loop\n",
        "\n",
        "se o índice percorre um conjunto de N elementos, o loop tem N etapas, isto é N iterações"
      ]
    },
    {
      "cell_type": "code",
      "metadata": {
        "id": "BriMLRwL_TA7",
        "colab_type": "code",
        "colab": {}
      },
      "source": [
        "def repeticao(y):\n",
        "  a = 'oi';\n",
        "  for i in range(1,y+1):\n",
        "    print(a)\n",
        "  return a"
      ],
      "execution_count": null,
      "outputs": []
    },
    {
      "cell_type": "code",
      "metadata": {
        "id": "gaBHzDmU_yRu",
        "colab_type": "code",
        "colab": {
          "base_uri": "https://localhost:8080/",
          "height": 119
        },
        "outputId": "40bd779c-a55b-459d-b3c7-20c745626fd2"
      },
      "source": [
        "repeticao(1,5)"
      ],
      "execution_count": null,
      "outputs": [
        {
          "output_type": "stream",
          "text": [
            "oi\n",
            "oi\n",
            "oi\n",
            "oi\n",
            "oi\n"
          ],
          "name": "stdout"
        },
        {
          "output_type": "execute_result",
          "data": {
            "text/plain": [
              "'oi'"
            ]
          },
          "metadata": {
            "tags": []
          },
          "execution_count": 59
        }
      ]
    },
    {
      "cell_type": "code",
      "metadata": {
        "id": "45yQJzG1AP9C",
        "colab_type": "code",
        "colab": {}
      },
      "source": [
        "def contar_quantas_execucoes(n,m,p,l):\n",
        "  x = 0\n",
        "  y = 0\n",
        "  z = 0\n",
        "  for i in range(0,n):\n",
        "    for j in range(0,m):\n",
        "      for k in range(0,p):\n",
        "        y = y + 1\n",
        "      x = x + 1\n",
        "    for b in range(0,l):\n",
        "      z = z + 1\n",
        "  return x, y"
      ],
      "execution_count": null,
      "outputs": []
    },
    {
      "cell_type": "markdown",
      "metadata": {
        "id": "66gj8_4k5FFL",
        "colab_type": "text"
      },
      "source": [
        "a cada 1 vez que o i mudar de valor,acrescenta-se 1 ao valor de x\n",
        "e a cada vez que o j mudar de valor,acrescenta-se 1 ao valor de y\n",
        "a cada vez que o i muda de valor o j muda de valor n vezes\n",
        "\n",
        "\n",
        "Em inglês Nest é ninho, nested quer dizer aninhado, um *for* nested está identado a direita de outro for"
      ]
    },
    {
      "cell_type": "markdown",
      "metadata": {
        "id": "3MsS-yDf5JmL",
        "colab_type": "text"
      },
      "source": [
        "y é atualizado  $ n*m*p $ vezes"
      ]
    },
    {
      "cell_type": "markdown",
      "metadata": {
        "id": "Ck-UKHYg5JBy",
        "colab_type": "text"
      },
      "source": [
        "##na matemática, \n",
        "\n",
        "$x = x +1$ errado! por que?\n",
        "\n",
        "$x - x = 1$\n",
        "\n",
        "$0 = 1  \\rightarrow $  falso!"
      ]
    },
    {
      "cell_type": "markdown",
      "metadata": {
        "id": "kpFNxLF38CIP",
        "colab_type": "text"
      },
      "source": [
        "##na programação,\n",
        "\n",
        "$𝑥 = 𝑥+1$  atualiza o valor de $ x $ usando o valor anterior de$ x$\n",
        "\n",
        "exemplo; se $ 𝑥=3 $ e rodamos uma linha $ 𝑥=𝑥+1 $\n",
        "\n",
        "$𝑥$  assume o valor 4\n",
        "\n",
        "se quiséssemos escrever esse processo na matemática precisaríamos usar o conceito de $\\it sequência$\n",
        "\n",
        "$𝑥_𝑖=𝑥_𝑖−1+1$"
      ]
    },
    {
      "cell_type": "markdown",
      "metadata": {
        "id": "pj9siFbk6V6P",
        "colab_type": "text"
      },
      "source": [
        "#Variáveis Lógicas\n",
        "\n",
        "Lembre-se de usar == em vez de = ao fazer comparações. Se você escrever n == 2, estará perguntando sobre o valor de n. Quando você escreve n = 2, está mudando (atualizando) o valor de n."
      ]
    },
    {
      "cell_type": "code",
      "metadata": {
        "id": "mhL2ldWR9ygy",
        "colab_type": "code",
        "colab": {
          "base_uri": "https://localhost:8080/",
          "height": 34
        },
        "outputId": "9d31a920-3f0c-47d6-c153-4363275689a8"
      },
      "source": [
        "1 < 2"
      ],
      "execution_count": 5,
      "outputs": [
        {
          "output_type": "execute_result",
          "data": {
            "text/plain": [
              "True"
            ]
          },
          "metadata": {
            "tags": []
          },
          "execution_count": 5
        }
      ]
    },
    {
      "cell_type": "code",
      "metadata": {
        "id": "lf1e5H2992ED",
        "colab_type": "code",
        "colab": {
          "base_uri": "https://localhost:8080/",
          "height": 34
        },
        "outputId": "3c798552-faa9-4761-a8be-964acac84673"
      },
      "source": [
        "1 > 2"
      ],
      "execution_count": 6,
      "outputs": [
        {
          "output_type": "execute_result",
          "data": {
            "text/plain": [
              "False"
            ]
          },
          "metadata": {
            "tags": []
          },
          "execution_count": 6
        }
      ]
    },
    {
      "cell_type": "code",
      "metadata": {
        "id": "KriPGY1k-GGP",
        "colab_type": "code",
        "colab": {
          "base_uri": "https://localhost:8080/",
          "height": 34
        },
        "outputId": "d1fc61d8-be49-40e9-db2e-c000e1668380"
      },
      "source": [
        " 4 in [1,2,5,9,1,0]"
      ],
      "execution_count": 7,
      "outputs": [
        {
          "output_type": "execute_result",
          "data": {
            "text/plain": [
              "False"
            ]
          },
          "metadata": {
            "tags": []
          },
          "execution_count": 7
        }
      ]
    },
    {
      "cell_type": "code",
      "metadata": {
        "id": "rLkKU-rT-HMZ",
        "colab_type": "code",
        "colab": {
          "base_uri": "https://localhost:8080/",
          "height": 34
        },
        "outputId": "ff08c214-827c-4ddb-da4a-d51b47c160e6"
      },
      "source": [
        " 4 in [1,2,4,9,1,0]"
      ],
      "execution_count": 8,
      "outputs": [
        {
          "output_type": "execute_result",
          "data": {
            "text/plain": [
              "True"
            ]
          },
          "metadata": {
            "tags": []
          },
          "execution_count": 8
        }
      ]
    },
    {
      "cell_type": "markdown",
      "metadata": {
        "id": "Wy81ijvE945o",
        "colab_type": "text"
      },
      "source": [
        "#noções matemáticas"
      ]
    },
    {
      "cell_type": "code",
      "metadata": {
        "colab_type": "code",
        "id": "YkeL65Hszvws",
        "colab": {}
      },
      "source": [
        "def TabuadaExponencial(x,y):\n",
        "  fim = 1\n",
        "  tabuada = []\n",
        "  for i in range(1,y+1):\n",
        "    tabuada.append(fim) # inclui a variável 'fim' na lista 'tabuada'\n",
        "    fim = fim*x         # atualiza o valor da variável fim com o valor anteiror de fim multiplicado por x\n",
        "    print(str(x)+' elevado a ' + str(i) +' é igual a '+ str(fim) )   # imprime a string entre os parenteses\n",
        "  tabuada.append(fim)\n",
        "  return tabuada"
      ],
      "execution_count": null,
      "outputs": []
    },
    {
      "cell_type": "code",
      "metadata": {
        "id": "QH1B_K3vNL27",
        "colab_type": "code",
        "colab": {}
      },
      "source": [
        "import matplotlib.pyplot as plt"
      ],
      "execution_count": null,
      "outputs": []
    },
    {
      "cell_type": "code",
      "metadata": {
        "id": "VxI1-lmNNO9_",
        "colab_type": "code",
        "colab": {
          "base_uri": "https://localhost:8080/",
          "height": 449
        },
        "outputId": "dc6861d4-585a-4735-bfc7-73d9a6a717f4"
      },
      "source": [
        "plt.plot(TabuadaExponencial(2,10))\n",
        "plt.xlabel('y')\n",
        "plt.ylabel('2^y')\n",
        "plt.show()"
      ],
      "execution_count": null,
      "outputs": [
        {
          "output_type": "stream",
          "text": [
            "2 elevado a 1 é igual a 2\n",
            "2 elevado a 2 é igual a 4\n",
            "2 elevado a 3 é igual a 8\n",
            "2 elevado a 4 é igual a 16\n",
            "2 elevado a 5 é igual a 32\n",
            "2 elevado a 6 é igual a 64\n",
            "2 elevado a 7 é igual a 128\n",
            "2 elevado a 8 é igual a 256\n",
            "2 elevado a 9 é igual a 512\n",
            "2 elevado a 10 é igual a 1024\n"
          ],
          "name": "stdout"
        },
        {
          "output_type": "display_data",
          "data": {
            "image/png": "[encoded data removed]",
            "text/plain": [
              "<Figure size 432x288 with 1 Axes>"
            ]
          },
          "metadata": {
            "tags": [],
            "needs_background": "light"
          }
        }
      ]
    },
    {
      "cell_type": "code",
      "metadata": {
        "id": "1VmU8ZmU0ELg",
        "colab_type": "code",
        "colab": {}
      },
      "source": [
        "def TabuadaMultiplicativa(x,y):\n",
        "  fim = 0\n",
        "  tabuada = []\n",
        "  for i in range(1,y+1):\n",
        "    tabuada.append(fim)\n",
        "    fim = fim+x\n",
        "    print(str(x)+' x ' + str(i) +' = '+ str(fim) )\n",
        "  tabuada.append(fim)\n",
        "  return tabuada"
      ],
      "execution_count": null,
      "outputs": []
    },
    {
      "cell_type": "code",
      "metadata": {
        "id": "WEjVdcng1Q_l",
        "colab_type": "code",
        "colab": {
          "base_uri": "https://localhost:8080/",
          "height": 704
        },
        "outputId": "ff7e710c-cb81-4255-9af9-bf90bd4a87e0"
      },
      "source": [
        "plt.plot(TabuadaMultiplicativa(3,25))\n",
        "plt.xlabel('a') # label em ingles é etiqueta, isso é como vamos chamar o eixo das abcissas\n",
        "plt.ylabel('3 x a') # isso é como vamos chamar o eixo das ordenadas\n",
        "plt.show()"
      ],
      "execution_count": null,
      "outputs": [
        {
          "output_type": "stream",
          "text": [
            "3 x 1 = 3\n",
            "3 x 2 = 6\n",
            "3 x 3 = 9\n",
            "3 x 4 = 12\n",
            "3 x 5 = 15\n",
            "3 x 6 = 18\n",
            "3 x 7 = 21\n",
            "3 x 8 = 24\n",
            "3 x 9 = 27\n",
            "3 x 10 = 30\n",
            "3 x 11 = 33\n",
            "3 x 12 = 36\n",
            "3 x 13 = 39\n",
            "3 x 14 = 42\n",
            "3 x 15 = 45\n",
            "3 x 16 = 48\n",
            "3 x 17 = 51\n",
            "3 x 18 = 54\n",
            "3 x 19 = 57\n",
            "3 x 20 = 60\n",
            "3 x 21 = 63\n",
            "3 x 22 = 66\n",
            "3 x 23 = 69\n",
            "3 x 24 = 72\n",
            "3 x 25 = 75\n"
          ],
          "name": "stdout"
        },
        {
          "output_type": "display_data",
          "data": {
            "image/png": "[encoded data removed]",
            "text/plain": [
              "<Figure size 432x288 with 1 Axes>"
            ]
          },
          "metadata": {
            "tags": [],
            "needs_background": "light"
          }
        }
      ]
    },
    {
      "cell_type": "markdown",
      "metadata": {
        "id": "1f4AuZUo9OPP",
        "colab_type": "text"
      },
      "source": [
        "#FUNCAO PRINT\n",
        "\n",
        "\n",
        "%d seve para colocar valor de variavel numerica dentro do string que vc pretende imprimir!\n",
        "\n",
        "Outra forma de fazer,  a função str()  converte aquele numero em uma string. Some essa string às strings que formam a mensagem que vc quer imprimir!"
      ]
    },
    {
      "cell_type": "code",
      "metadata": {
        "id": "4Op28QA49Toz",
        "colab_type": "code",
        "colab": {
          "base_uri": "https://localhost:8080/",
          "height": 34
        },
        "outputId": "a94a033d-c63d-43e3-880d-f022c8842a2f"
      },
      "source": [
        "max_leaf_nodes = 234\n",
        "my_mae = 0\n",
        "\n",
        "print(\"Max leaf nodes: %d  \\t\\t Mean Absolute Error:  %d\" %(max_leaf_nodes, my_mae) )"
      ],
      "execution_count": 2,
      "outputs": [
        {
          "output_type": "stream",
          "text": [
            "Max leaf nodes: 234  \t\t Mean Absolute Error:  0\n"
          ],
          "name": "stdout"
        }
      ]
    },
    {
      "cell_type": "markdown",
      "metadata": {
        "id": "gP4e7nL89YH0",
        "colab_type": "text"
      },
      "source": [
        "#FUNCAO STR"
      ]
    },
    {
      "cell_type": "markdown",
      "metadata": {
        "id": "W45uDVat9bVT",
        "colab_type": "text"
      },
      "source": [
        "Serve para converter uma variável numérica em um string, uma variável de texto"
      ]
    },
    {
      "cell_type": "markdown",
      "metadata": {
        "id": "0GbvdEPH9fau",
        "colab_type": "text"
      },
      "source": [
        "#IF\n",
        "\n",
        "do inglês \"se\", define uma condicional"
      ]
    },
    {
      "cell_type": "code",
      "metadata": {
        "id": "T6r6HGPE9jkK",
        "colab_type": "code",
        "colab": {}
      },
      "source": [
        "def maior(x,y):\n",
        "  if x > y :\n",
        "    print(str(x) + ' é maior que ' + str(y))\n",
        "  else :\n",
        "    print(str(x) + ' não é maior que ' + str(y))\n",
        "  return"
      ],
      "execution_count": null,
      "outputs": []
    },
    {
      "cell_type": "code",
      "metadata": {
        "id": "_7pwN0UU9m56",
        "colab_type": "code",
        "colab": {}
      },
      "source": [
        "def igual(x,y):\n",
        "  if x == y :\n",
        "    print(str(x) + ' é igual a ' + str(y))\n",
        "  else :\n",
        "    print(str(x) + ' não é igual a ' + str(y))\n",
        "  return"
      ],
      "execution_count": null,
      "outputs": []
    },
    {
      "cell_type": "code",
      "metadata": {
        "id": "3OU0anI79o4e",
        "colab_type": "code",
        "colab": {}
      },
      "source": [
        "def multiplo(x,y):\n",
        "  if x%y==0 :\n",
        "    print(str(x) + ' é multiplo de ' + str(y))\n",
        "  else :\n",
        "    print(str(x) + ' não é multiplo de '+ str(y)) \n",
        "  return  "
      ],
      "execution_count": null,
      "outputs": []
    },
    {
      "cell_type": "markdown",
      "metadata": {
        "id": "urQcm5Ed5095",
        "colab_type": "text"
      },
      "source": [
        "#ML (Machine Learning) - comentários ao tutorial do kaggle"
      ]
    },
    {
      "cell_type": "markdown",
      "metadata": {
        "id": "PM6JG1IA57XX",
        "colab_type": "text"
      },
      "source": [
        "csv(valores separados por vírgula) é um tipo de arquivo que armazena uma tabela \n",
        "\n",
        "X = tabela para treinamento\n",
        "\n",
        "train_size = proporção dos dados que fica para o treinamento após a aplicacao de um train_test_split\n",
        "\n",
        "random_state = parâmetro, sorteio dos números\n",
        "definição no input =  valores default(pré definido) \n",
        "\n",
        "np.shape dá o número de linhas e colunas, a forma da tabela"
      ]
    },
    {
      "cell_type": "markdown",
      "metadata": {
        "id": "KYPgg7Pc881y",
        "colab_type": "text"
      },
      "source": [
        "#Exemplo mean_absolute_error (usado no tutorial do kaggle)"
      ]
    },
    {
      "cell_type": "code",
      "metadata": {
        "id": "EHNqbVJD56TG",
        "colab_type": "code",
        "colab": {}
      },
      "source": [
        "def mean_absolute_error(val_predictions,val_y)\n",
        "\n",
        "    listaval_y = val_y.tolist()\n",
        "    media = 0\n",
        "\n",
        "    for i in range(0,len(val_predictions)):\n",
        "\n",
        "        erro = abs( val_predictions[i] - listaval_y[i]  )\n",
        "        media = media + erro\n",
        "\n",
        "    media = media/len(val_predictions)\n",
        "    \n",
        "    return media "
      ],
      "execution_count": null,
      "outputs": []
    }
  ]
}